{
  "cells": [
    {
      "cell_type": "code",
      "execution_count": null,
      "metadata": {
        "id": "3hWikjzmaZL4"
      },
      "outputs": [],
      "source": [
        "spark.stop()"
      ]
    },
    {
      "cell_type": "code",
      "execution_count": null,
      "metadata": {
        "colab": {
          "base_uri": "https://localhost:8080/"
        },
        "id": "exa20hm5SRcK",
        "outputId": "dc1321c8-258d-46be-85e4-f695648efa2e"
      },
      "outputs": [
        {
          "name": "stdout",
          "output_type": "stream",
          "text": [
            "Requirement already satisfied: pyspark in /usr/local/lib/python3.10/dist-packages (3.5.0)\n",
            "Requirement already satisfied: py4j==0.10.9.7 in /usr/local/lib/python3.10/dist-packages (from pyspark) (0.10.9.7)\n",
            "\u001b[31mERROR: Could not find a version that satisfies the requirement sparkfind (from versions: none)\u001b[0m\u001b[31m\n",
            "\u001b[0m\u001b[31mERROR: No matching distribution found for sparkfind\u001b[0m\u001b[31m\n",
            "\u001b[0m"
          ]
        }
      ],
      "source": [
        "!pip install pyspark\n",
        "!pip install sparkfind"
      ]
    },
    {
      "cell_type": "code",
      "execution_count": null,
      "metadata": {
        "id": "0s6DAGb9SXHs"
      },
      "outputs": [],
      "source": [
        "from pyspark import SparkContext, SparkConf\n",
        "from pyspark.sql import SparkSession\n",
        "from pyspark.sql.types import *\n",
        "from pyspark.sql.functions import col, split, trim, lower, round, concat, lit, regexp_extract, when,  avg, min, max, desc\n",
        "from operator import add\n",
        "from itertools import combinations, permutations\n",
        "from pyspark.sql.functions import split, col\n"
      ]
    },
    {
      "attachments": {
        "image.png": {
          "image/png": "[encoded data removed]"
        }
      },
      "cell_type": "markdown",
      "metadata": {
        "id": "R7bFrD3tUHH-"
      },
      "source": [
        "![image.png](attachment:image.png)"
      ]
    },
    {
      "cell_type": "code",
      "execution_count": null,
      "metadata": {
        "id": "QPXJJqeSUAml"
      },
      "outputs": [],
      "source": [
        "spark = SparkSession \\\n",
        "    .builder \\\n",
        "    .appName(\"Q3\") \\\n",
        "    .getOrCreate()"
      ]
    },
    {
      "cell_type": "code",
      "execution_count": null,
      "metadata": {
        "id": "crAAzauLUSJN"
      },
      "outputs": [],
      "source": [
        "vehicle_mpg = spark\\\n",
        "    .read\\\n",
        "    .option(\"delimiter\", \"\\t\")\\\n",
        "    .option(\"header\", \"true\")\\\n",
        "    .csv (\"vehicle_mpg.tsv\")"
      ]
    },
    {
      "cell_type": "code",
      "execution_count": null,
      "metadata": {
        "colab": {
          "base_uri": "https://localhost:8080/"
        },
        "id": "PUsTGN64UcxI",
        "outputId": "9757ba23-978e-4a75-83de-1dd9c4e70296"
      },
      "outputs": [
        {
          "name": "stdout",
          "output_type": "stream",
          "text": [
            "+----+---------+------------+----------+------+------------+---------+------+--------------------+\n",
            "| mpg|cylinders|displacement|horsepower|weight|acceleration|modelyear|origin|             carname|\n",
            "+----+---------+------------+----------+------+------------+---------+------+--------------------+\n",
            "|18.0|        8|       307.0|     130.0| 3504.|        12.0|       70|     1|chevrolet chevell...|\n",
            "|15.0|        8|       350.0|     165.0| 3693.|        11.5|       70|     1|   buick skylark 320|\n",
            "|18.0|        8|       318.0|     150.0| 3436.|        11.0|       70|     1|  plymouth satellite|\n",
            "|16.0|        8|       304.0|     150.0| 3433.|        12.0|       70|     1|       amc rebel sst|\n",
            "|17.0|        8|       302.0|     140.0| 3449.|        10.5|       70|     1|         ford torino|\n",
            "|15.0|        8|       429.0|     198.0| 4341.|        10.0|       70|     1|    ford galaxie 500|\n",
            "|14.0|        8|       454.0|     220.0| 4354.|         9.0|       70|     1|    chevrolet impala|\n",
            "|14.0|        8|       440.0|     215.0| 4312.|         8.5|       70|     1|   plymouth fury iii|\n",
            "|14.0|        8|       455.0|     225.0| 4425.|        10.0|       70|     1|    pontiac catalina|\n",
            "|15.0|        8|       390.0|     190.0| 3850.|         8.5|       70|     1|  amc ambassador dpl|\n",
            "|15.0|        8|       383.0|     170.0| 3563.|        10.0|       70|     1| dodge challenger se|\n",
            "|14.0|        8|       340.0|     160.0| 3609.|         8.0|       70|     1|  plymouth 'cuda 340|\n",
            "|15.0|        8|       400.0|     150.0| 3761.|         9.5|       70|     1|chevrolet monte c...|\n",
            "|14.0|        8|       455.0|     225.0| 3086.|        10.0|       70|     1|buick estate wago...|\n",
            "|24.0|        4|       113.0|     95.00| 2372.|        15.0|       70|     3|toyota corona mar...|\n",
            "|22.0|        6|       198.0|     95.00| 2833.|        15.5|       70|     1|     plymouth duster|\n",
            "|18.0|        6|       199.0|     97.00| 2774.|        15.5|       70|     1|          amc hornet|\n",
            "|21.0|        6|       200.0|     85.00| 2587.|        16.0|       70|     1|       ford maverick|\n",
            "|27.0|        4|       97.00|     88.00| 2130.|        14.5|       70|     3|        datsun pl510|\n",
            "|26.0|        4|       97.00|     46.00| 1835.|        20.5|       70|     2|volkswagen 1131 d...|\n",
            "+----+---------+------------+----------+------+------------+---------+------+--------------------+\n",
            "only showing top 20 rows\n",
            "\n"
          ]
        }
      ],
      "source": [
        "vehicle_mpg.show()"
      ]
    },
    {
      "cell_type": "code",
      "execution_count": null,
      "metadata": {
        "colab": {
          "base_uri": "https://localhost:8080/"
        },
        "id": "HqWBFPnDU0EG",
        "outputId": "7bcb2455-7c51-478e-efd6-0a54778138da"
      },
      "outputs": [
        {
          "name": "stdout",
          "output_type": "stream",
          "text": [
            "Occurrences of values in column mpg:\n",
            "+----+-----+\n",
            "| mpg|count|\n",
            "+----+-----+\n",
            "|20.5|    3|\n",
            "|34.4|    1|\n",
            "|26.5|    1|\n",
            "|36.1|    2|\n",
            "|22.4|    1|\n",
            "|40.9|    1|\n",
            "|18.1|    2|\n",
            "|44.6|    1|\n",
            "|22.0|   10|\n",
            "|32.7|    1|\n",
            "|22.5|    1|\n",
            "|38.0|    4|\n",
            "|20.0|    9|\n",
            "|30.9|    1|\n",
            "|15.0|   16|\n",
            "|21.5|    3|\n",
            "|40.8|    1|\n",
            "|17.6|    2|\n",
            "|23.8|    1|\n",
            "|24.5|    2|\n",
            "+----+-----+\n",
            "only showing top 20 rows\n",
            "\n",
            "Occurrences of values in column cylinders:\n",
            "+---------+-----+\n",
            "|cylinders|count|\n",
            "+---------+-----+\n",
            "|        3|    4|\n",
            "|        8|  103|\n",
            "|        5|    3|\n",
            "|        6|   84|\n",
            "|        4|  204|\n",
            "+---------+-----+\n",
            "\n",
            "Occurrences of values in column displacement:\n",
            "+------------+-----+\n",
            "|displacement|count|\n",
            "+------------+-----+\n",
            "|       151.0|   10|\n",
            "|       302.0|   11|\n",
            "|       360.0|    4|\n",
            "|       68.00|    1|\n",
            "|       116.0|    4|\n",
            "|       145.0|    1|\n",
            "|       231.0|    8|\n",
            "|       90.00|    8|\n",
            "|       200.0|    8|\n",
            "|       88.00|    1|\n",
            "|       144.0|    1|\n",
            "|       307.0|    3|\n",
            "|       120.0|    9|\n",
            "|       168.0|    3|\n",
            "|       80.00|    1|\n",
            "|       232.0|   11|\n",
            "|       108.0|    5|\n",
            "|       96.00|    1|\n",
            "|       85.00|    8|\n",
            "|       383.0|    2|\n",
            "+------------+-----+\n",
            "only showing top 20 rows\n",
            "\n",
            "Occurrences of values in column horsepower:\n",
            "+----------+-----+\n",
            "|horsepower|count|\n",
            "+----------+-----+\n",
            "|     102.0|    1|\n",
            "|     68.00|    6|\n",
            "|     116.0|    1|\n",
            "|     145.0|    7|\n",
            "|     90.00|   20|\n",
            "|     87.00|    2|\n",
            "|     170.0|    5|\n",
            "|     75.00|   14|\n",
            "|     132.0|    1|\n",
            "|     84.00|    6|\n",
            "|     88.00|   19|\n",
            "|     200.0|    1|\n",
            "|     152.0|    1|\n",
            "|     120.0|    4|\n",
            "|     80.00|    7|\n",
            "|     108.0|    1|\n",
            "|     58.00|    2|\n",
            "|     210.0|    1|\n",
            "|     96.00|    3|\n",
            "|     85.00|    9|\n",
            "+----------+-----+\n",
            "only showing top 20 rows\n",
            "\n",
            "Occurrences of values in column weight:\n",
            "+------+-----+\n",
            "|weight|count|\n",
            "+------+-----+\n",
            "| 3574.|    1|\n",
            "| 2220.|    2|\n",
            "| 2625.|    1|\n",
            "| 3613.|    1|\n",
            "| 4498.|    1|\n",
            "| 4274.|    1|\n",
            "| 3651.|    1|\n",
            "| 2074.|    1|\n",
            "| 3439.|    1|\n",
            "| 3211.|    1|\n",
            "| 2171.|    1|\n",
            "| 4363.|    1|\n",
            "| 2401.|    1|\n",
            "| 2957.|    1|\n",
            "| 2408.|    2|\n",
            "| 2379.|    1|\n",
            "| 4060.|    1|\n",
            "| 1915.|    1|\n",
            "| 1955.|    1|\n",
            "| 2815.|    1|\n",
            "+------+-----+\n",
            "only showing top 20 rows\n",
            "\n",
            "Occurrences of values in column acceleration:\n",
            "+------------+-----+\n",
            "|acceleration|count|\n",
            "+------------+-----+\n",
            "|         8.5|    2|\n",
            "|        20.5|    3|\n",
            "|        12.8|    3|\n",
            "|        14.2|    3|\n",
            "|        16.6|    3|\n",
            "|        17.1|    1|\n",
            "|        15.8|    7|\n",
            "|        18.1|    1|\n",
            "|        16.4|    9|\n",
            "|        15.7|    4|\n",
            "|        16.7|    3|\n",
            "|        15.0|   14|\n",
            "|        21.5|    1|\n",
            "|        17.6|    4|\n",
            "|        20.4|    1|\n",
            "|        16.9|    4|\n",
            "|        17.5|    4|\n",
            "|        14.8|    3|\n",
            "|        16.8|    2|\n",
            "|        14.4|    5|\n",
            "+------------+-----+\n",
            "only showing top 20 rows\n",
            "\n",
            "Occurrences of values in column modelyear:\n",
            "+---------+-----+\n",
            "|modelyear|count|\n",
            "+---------+-----+\n",
            "|       73|   40|\n",
            "|       71|   28|\n",
            "|       70|   29|\n",
            "|       75|   30|\n",
            "|       78|   36|\n",
            "|       77|   28|\n",
            "|       82|   31|\n",
            "|       81|   29|\n",
            "|       79|   29|\n",
            "|       72|   28|\n",
            "|       74|   27|\n",
            "|       76|   34|\n",
            "|       80|   29|\n",
            "+---------+-----+\n",
            "\n",
            "Occurrences of values in column origin:\n",
            "+------+-----+\n",
            "|origin|count|\n",
            "+------+-----+\n",
            "|     3|   79|\n",
            "|     1|  249|\n",
            "|     2|   70|\n",
            "+------+-----+\n",
            "\n",
            "Occurrences of values in column carname:\n",
            "+--------------------+-----+\n",
            "|             carname|count|\n",
            "+--------------------+-----+\n",
            "|         audi 100 ls|    1|\n",
            "|pontiac sunbird c...|    1|\n",
            "|       dodge rampage|    1|\n",
            "|    chevrolet malibu|    2|\n",
            "|chevrolet monte c...|    1|\n",
            "|    ford thunderbird|    1|\n",
            "|         volvo 244dl|    1|\n",
            "|    maxda glc deluxe|    1|\n",
            "|        datsun 200sx|    1|\n",
            "|buick estate wago...|    2|\n",
            "|         amc matador|    5|\n",
            "|ford gran torino ...|    2|\n",
            "|           ford f108|    1|\n",
            "|          dodge omni|    1|\n",
            "|plymouth satellit...|    1|\n",
            "|          datsun 510|    1|\n",
            "|       peugeot 604sl|    1|\n",
            "|           fiat 124b|    1|\n",
            "|   honda accord cvcc|    1|\n",
            "|oldsmobile starfi...|    1|\n",
            "+--------------------+-----+\n",
            "only showing top 20 rows\n",
            "\n"
          ]
        }
      ],
      "source": [
        "for col in vehicle_mpg.columns:\n",
        "    print(f\"Occurrences of values in column {col}:\")\n",
        "    vehicle_mpg.groupBy(col).count().show()"
      ]
    },
    {
      "cell_type": "code",
      "execution_count": null,
      "metadata": {
        "colab": {
          "base_uri": "https://localhost:8080/"
        },
        "id": "pGUTzEquU793",
        "outputId": "79eb8f35-299b-4ce4-c391-a859d6c6614f"
      },
      "outputs": [
        {
          "name": "stdout",
          "output_type": "stream",
          "text": [
            "root\n",
            " |-- mpg: string (nullable = true)\n",
            " |-- cylinders: string (nullable = true)\n",
            " |-- displacement: string (nullable = true)\n",
            " |-- horsepower: string (nullable = true)\n",
            " |-- weight: string (nullable = true)\n",
            " |-- acceleration: string (nullable = true)\n",
            " |-- modelyear: string (nullable = true)\n",
            " |-- origin: string (nullable = true)\n",
            " |-- carname: string (nullable = true)\n",
            "\n"
          ]
        }
      ],
      "source": [
        "vehicle_mpg.printSchema()"
      ]
    },
    {
      "cell_type": "code",
      "execution_count": null,
      "metadata": {
        "colab": {
          "base_uri": "https://localhost:8080/"
        },
        "id": "LhgjpK1LVBqc",
        "outputId": "9468f4a1-b95e-4bc6-b498-9df8cf5c50b7"
      },
      "outputs": [
        {
          "name": "stdout",
          "output_type": "stream",
          "text": [
            "Number of rows: 398\n",
            "Number of columns: 9\n"
          ]
        }
      ],
      "source": [
        "print(f\"Number of rows: {vehicle_mpg.count()}\")\n",
        "print(f\"Number of columns: {len(vehicle_mpg.columns)}\")"
      ]
    },
    {
      "attachments": {
        "image.png": {
          "image/png": "[encoded data removed]"
        }
      },
      "cell_type": "markdown",
      "metadata": {
        "id": "LYpru98qVJEr"
      },
      "source": [
        "![image.png](attachment:image.png)"
      ]
    },
    {
      "cell_type": "code",
      "execution_count": null,
      "metadata": {
        "id": "Qztw2Y61VJoU"
      },
      "outputs": [],
      "source": [
        "cleaned_vehicle_mpg = vehicle_mpg.na.drop()"
      ]
    },
    {
      "cell_type": "code",
      "execution_count": null,
      "metadata": {
        "colab": {
          "base_uri": "https://localhost:8080/"
        },
        "id": "Sen19F-5VZtW",
        "outputId": "14ebdcda-e899-4e6b-bebc-00742ba473e7"
      },
      "outputs": [
        {
          "name": "stdout",
          "output_type": "stream",
          "text": [
            "+----+---------+------------+----------+------+------------+---------+------+--------------------+------------+\n",
            "| mpg|cylinders|displacement|horsepower|weight|acceleration|modelyear|origin|             carname|manufacturer|\n",
            "+----+---------+------------+----------+------+------------+---------+------+--------------------+------------+\n",
            "|18.0|        8|       307.0|     130.0| 3504.|        12.0|       70|     1|chevrolet chevell...|   chevrolet|\n",
            "|15.0|        8|       350.0|     165.0| 3693.|        11.5|       70|     1|   buick skylark 320|       buick|\n",
            "|18.0|        8|       318.0|     150.0| 3436.|        11.0|       70|     1|  plymouth satellite|    plymouth|\n",
            "|16.0|        8|       304.0|     150.0| 3433.|        12.0|       70|     1|       amc rebel sst|         amc|\n",
            "|17.0|        8|       302.0|     140.0| 3449.|        10.5|       70|     1|         ford torino|        ford|\n",
            "|15.0|        8|       429.0|     198.0| 4341.|        10.0|       70|     1|    ford galaxie 500|        ford|\n",
            "|14.0|        8|       454.0|     220.0| 4354.|         9.0|       70|     1|    chevrolet impala|   chevrolet|\n",
            "|14.0|        8|       440.0|     215.0| 4312.|         8.5|       70|     1|   plymouth fury iii|    plymouth|\n",
            "|14.0|        8|       455.0|     225.0| 4425.|        10.0|       70|     1|    pontiac catalina|     pontiac|\n",
            "|15.0|        8|       390.0|     190.0| 3850.|         8.5|       70|     1|  amc ambassador dpl|         amc|\n",
            "|15.0|        8|       383.0|     170.0| 3563.|        10.0|       70|     1| dodge challenger se|       dodge|\n",
            "|14.0|        8|       340.0|     160.0| 3609.|         8.0|       70|     1|  plymouth 'cuda 340|    plymouth|\n",
            "|15.0|        8|       400.0|     150.0| 3761.|         9.5|       70|     1|chevrolet monte c...|   chevrolet|\n",
            "|14.0|        8|       455.0|     225.0| 3086.|        10.0|       70|     1|buick estate wago...|       buick|\n",
            "|24.0|        4|       113.0|     95.00| 2372.|        15.0|       70|     3|toyota corona mar...|      toyota|\n",
            "|22.0|        6|       198.0|     95.00| 2833.|        15.5|       70|     1|     plymouth duster|    plymouth|\n",
            "|18.0|        6|       199.0|     97.00| 2774.|        15.5|       70|     1|          amc hornet|         amc|\n",
            "|21.0|        6|       200.0|     85.00| 2587.|        16.0|       70|     1|       ford maverick|        ford|\n",
            "|27.0|        4|       97.00|     88.00| 2130.|        14.5|       70|     3|        datsun pl510|      datsun|\n",
            "|26.0|        4|       97.00|     46.00| 1835.|        20.5|       70|     2|volkswagen 1131 d...|  volkswagen|\n",
            "+----+---------+------------+----------+------+------------+---------+------+--------------------+------------+\n",
            "only showing top 20 rows\n",
            "\n"
          ]
        }
      ],
      "source": [
        "cleaned_vehicle_mpg.show()"
      ]
    },
    {
      "cell_type": "code",
      "execution_count": null,
      "metadata": {
        "colab": {
          "base_uri": "https://localhost:8080/"
        },
        "id": "t3W8SnCt847z",
        "outputId": "f534b781-d76b-4870-84bc-58e617be6b46"
      },
      "outputs": [
        {
          "data": {
            "text/plain": [
              "DataFrame[mpg: string, cylinders: string, displacement: string, horsepower: string, weight: string, acceleration: string, modelyear: string, origin: string, carname: string, manufacturer: string]"
            ]
          },
          "execution_count": 58,
          "metadata": {},
          "output_type": "execute_result"
        }
      ],
      "source": [
        "cleaned_vehicle_mpg"
      ]
    },
    {
      "cell_type": "code",
      "execution_count": null,
      "metadata": {
        "id": "ontnFcP7_14i"
      },
      "outputs": [],
      "source": [
        "cleaned_vehicle_mpg = cleaned_vehicle_mpg.withColumn(\"mpg\", cleaned_vehicle_mpg[\"mpg\"].cast(DoubleType()))\n",
        "cleaned_vehicle_mpg = cleaned_vehicle_mpg.withColumn(\"cylinders\", cleaned_vehicle_mpg[\"cylinders\"].cast(IntegerType()))\n",
        "cleaned_vehicle_mpg = cleaned_vehicle_mpg.withColumn(\"displacement\", cleaned_vehicle_mpg[\"displacement\"].cast(DoubleType()))\n",
        "cleaned_vehicle_mpg = cleaned_vehicle_mpg.withColumn(\"horsepower\", cleaned_vehicle_mpg[\"horsepower\"].cast(DoubleType()))\n",
        "cleaned_vehicle_mpg = cleaned_vehicle_mpg.withColumn(\"weight\", cleaned_vehicle_mpg[\"weight\"].cast(DoubleType()))\n",
        "cleaned_vehicle_mpg = cleaned_vehicle_mpg.withColumn(\"acceleration\", cleaned_vehicle_mpg[\"acceleration\"].cast(DoubleType()))\n",
        "cleaned_vehicle_mpg = cleaned_vehicle_mpg.withColumn(\"modelyear\", cleaned_vehicle_mpg[\"modelyear\"].cast(IntegerType()))\n",
        "cleaned_vehicle_mpg = cleaned_vehicle_mpg.withColumn(\"origin\", cleaned_vehicle_mpg[\"origin\"].cast(IntegerType()))"
      ]
    },
    {
      "cell_type": "code",
      "execution_count": null,
      "metadata": {
        "colab": {
          "base_uri": "https://localhost:8080/"
        },
        "id": "GQ4GlkiCA0yv",
        "outputId": "2f49967f-9fc4-409a-bab1-4e42a2f6e6e5"
      },
      "outputs": [
        {
          "name": "stdout",
          "output_type": "stream",
          "text": [
            "Data types of each column:\n",
            "mpg: double\n",
            "cylinders: int\n",
            "displacement: double\n",
            "horsepower: double\n",
            "weight: double\n",
            "acceleration: double\n",
            "modelyear: int\n",
            "origin: int\n",
            "carname: string\n",
            "manufacturer: string\n"
          ]
        }
      ],
      "source": [
        "print(\"Data types of each column:\")\n",
        "for col_name, data_type in cleaned_vehicle_mpg.dtypes:\n",
        "    print(f\"{col_name}: {data_type}\")"
      ]
    },
    {
      "cell_type": "code",
      "execution_count": null,
      "metadata": {
        "colab": {
          "base_uri": "https://localhost:8080/"
        },
        "id": "v4K9mVPrVZrc",
        "outputId": "e618d72c-95b3-4978-8717-cfe944d19368"
      },
      "outputs": [
        {
          "name": "stdout",
          "output_type": "stream",
          "text": [
            "Occurrences of values in column mpg:\n",
            "+----+-----+\n",
            "| mpg|count|\n",
            "+----+-----+\n",
            "|15.5|    5|\n",
            "|25.1|    1|\n",
            "|32.3|    1|\n",
            "|26.4|    1|\n",
            "|23.8|    1|\n",
            "|23.9|    2|\n",
            "|26.6|    2|\n",
            "|31.6|    1|\n",
            "|20.5|    3|\n",
            "|34.7|    1|\n",
            "|31.5|    2|\n",
            "|28.8|    1|\n",
            "|26.8|    1|\n",
            "|19.9|    1|\n",
            "|32.7|    1|\n",
            "|31.9|    1|\n",
            "|20.2|    4|\n",
            "|29.0|    8|\n",
            "|24.5|    2|\n",
            "|17.7|    1|\n",
            "+----+-----+\n",
            "only showing top 20 rows\n",
            "\n",
            "Occurrences of values in column cylinders:\n",
            "+---------+-----+\n",
            "|cylinders|count|\n",
            "+---------+-----+\n",
            "|        6|   84|\n",
            "|        3|    4|\n",
            "|        5|    3|\n",
            "|        4|  204|\n",
            "|        8|  103|\n",
            "+---------+-----+\n",
            "\n",
            "Occurrences of values in column displacement:\n",
            "+------------+-----+\n",
            "|displacement|count|\n",
            "+------------+-----+\n",
            "|       305.0|    4|\n",
            "|        70.0|    3|\n",
            "|       168.0|    3|\n",
            "|       390.0|    1|\n",
            "|       112.0|    4|\n",
            "|       232.0|   11|\n",
            "|       108.0|    5|\n",
            "|        97.5|    1|\n",
            "|       181.0|    1|\n",
            "|        88.0|    1|\n",
            "|       155.0|    1|\n",
            "|       350.0|   18|\n",
            "|       101.0|    1|\n",
            "|        98.0|   18|\n",
            "|       116.0|    4|\n",
            "|       107.0|    5|\n",
            "|       144.0|    1|\n",
            "|        96.0|    1|\n",
            "|       151.0|   10|\n",
            "|       258.0|    5|\n",
            "+------------+-----+\n",
            "only showing top 20 rows\n",
            "\n",
            "Occurrences of values in column horsepower:\n",
            "+----------+-----+\n",
            "|horsepower|count|\n",
            "+----------+-----+\n",
            "|     170.0|    5|\n",
            "|     160.0|    2|\n",
            "|      70.0|   12|\n",
            "|      67.0|   12|\n",
            "|      69.0|    3|\n",
            "|     142.0|    1|\n",
            "|     112.0|    3|\n",
            "|     180.0|    5|\n",
            "|     108.0|    1|\n",
            "|     133.0|    1|\n",
            "|      88.0|   19|\n",
            "|      49.0|    1|\n",
            "|     155.0|    2|\n",
            "|     167.0|    1|\n",
            "|      98.0|    2|\n",
            "|     116.0|    1|\n",
            "|     107.0|    1|\n",
            "|      75.0|   14|\n",
            "|      64.0|    1|\n",
            "|     215.0|    3|\n",
            "+----------+-----+\n",
            "only showing top 20 rows\n",
            "\n",
            "Occurrences of values in column weight:\n",
            "+------+-----+\n",
            "|weight|count|\n",
            "+------+-----+\n",
            "|2815.0|    1|\n",
            "|4385.0|    1|\n",
            "|3432.0|    1|\n",
            "|4440.0|    1|\n",
            "|2164.0|    2|\n",
            "|3085.0|    1|\n",
            "|3365.0|    1|\n",
            "|3535.0|    1|\n",
            "|2587.0|    1|\n",
            "|3245.0|    1|\n",
            "|3892.0|    1|\n",
            "|2665.0|    1|\n",
            "|4363.0|    1|\n",
            "|3570.0|    1|\n",
            "|3380.0|    1|\n",
            "|2290.0|    1|\n",
            "|1940.0|    1|\n",
            "|2385.0|    1|\n",
            "|3755.0|    1|\n",
            "|3459.0|    1|\n",
            "+------+-----+\n",
            "only showing top 20 rows\n",
            "\n",
            "Occurrences of values in column acceleration:\n",
            "+------------+-----+\n",
            "|acceleration|count|\n",
            "+------------+-----+\n",
            "|        14.9|    7|\n",
            "|        15.5|   21|\n",
            "|        13.4|    2|\n",
            "|        15.4|    4|\n",
            "|         8.0|    1|\n",
            "|        15.7|    4|\n",
            "|        18.3|    1|\n",
            "|        17.9|    1|\n",
            "|        11.4|    2|\n",
            "|        16.6|    3|\n",
            "|        15.9|    2|\n",
            "|        11.5|    7|\n",
            "|         9.5|    2|\n",
            "|        11.6|    1|\n",
            "|        17.3|    5|\n",
            "|        20.5|    3|\n",
            "|        15.1|    2|\n",
            "|        12.5|    8|\n",
            "|        19.9|    1|\n",
            "|        15.8|    7|\n",
            "+------------+-----+\n",
            "only showing top 20 rows\n",
            "\n",
            "Occurrences of values in column modelyear:\n",
            "+---------+-----+\n",
            "|modelyear|count|\n",
            "+---------+-----+\n",
            "|       78|   36|\n",
            "|       81|   29|\n",
            "|       76|   34|\n",
            "|       72|   28|\n",
            "|       77|   28|\n",
            "|       82|   31|\n",
            "|       80|   29|\n",
            "|       73|   40|\n",
            "|       70|   29|\n",
            "|       75|   30|\n",
            "|       71|   28|\n",
            "|       79|   29|\n",
            "|       74|   27|\n",
            "+---------+-----+\n",
            "\n",
            "Occurrences of values in column origin:\n",
            "+------+-----+\n",
            "|origin|count|\n",
            "+------+-----+\n",
            "|     1|  249|\n",
            "|     3|   79|\n",
            "|     2|   70|\n",
            "+------+-----+\n",
            "\n",
            "Occurrences of values in column carname:\n",
            "+--------------------+-----+\n",
            "|             carname|count|\n",
            "+--------------------+-----+\n",
            "|         audi 100 ls|    1|\n",
            "|pontiac sunbird c...|    1|\n",
            "|       dodge rampage|    1|\n",
            "|    chevrolet malibu|    2|\n",
            "|chevrolet monte c...|    1|\n",
            "|    ford thunderbird|    1|\n",
            "|         volvo 244dl|    1|\n",
            "|    maxda glc deluxe|    1|\n",
            "|        datsun 200sx|    1|\n",
            "|buick estate wago...|    2|\n",
            "|         amc matador|    5|\n",
            "|ford gran torino ...|    2|\n",
            "|           ford f108|    1|\n",
            "|          dodge omni|    1|\n",
            "|plymouth satellit...|    1|\n",
            "|          datsun 510|    1|\n",
            "|       peugeot 604sl|    1|\n",
            "|           fiat 124b|    1|\n",
            "|   honda accord cvcc|    1|\n",
            "|oldsmobile starfi...|    1|\n",
            "+--------------------+-----+\n",
            "only showing top 20 rows\n",
            "\n",
            "Occurrences of values in column manufacturer:\n",
            "+------------+-----+\n",
            "|manufacturer|count|\n",
            "+------------+-----+\n",
            "|       buick|   17|\n",
            "|     pontiac|   16|\n",
            "|    mercedes|    1|\n",
            "|      toyota|   25|\n",
            "|        saab|    4|\n",
            "|         amc|   28|\n",
            "|          vw|    6|\n",
            "|     peugeot|    8|\n",
            "|    chrysler|    6|\n",
            "|    plymouth|   31|\n",
            "|   vokswagen|    1|\n",
            "|       chevy|    3|\n",
            "|        audi|    7|\n",
            "|      datsun|   23|\n",
            "|         bmw|    2|\n",
            "|       dodge|   28|\n",
            "|        ford|   51|\n",
            "|     toyouta|    1|\n",
            "|       capri|    1|\n",
            "|    cadillac|    2|\n",
            "+------------+-----+\n",
            "only showing top 20 rows\n",
            "\n"
          ]
        }
      ],
      "source": [
        "for col_name in cleaned_vehicle_mpg.columns:\n",
        "    print(f\"Occurrences of values in column {col_name}:\")\n",
        "    cleaned_vehicle_mpg.groupBy(col_name).count().show()"
      ]
    },
    {
      "cell_type": "code",
      "execution_count": null,
      "metadata": {
        "id": "IJmFKE9xPGBc"
      },
      "outputs": [],
      "source": [
        "numerical_columns = [\"mpg\", \"cylinders\", \"displacement\", \"horsepower\", \"weight\", \"acceleration\", \"modelyear\", \"origin\"]"
      ]
    },
    {
      "cell_type": "code",
      "execution_count": null,
      "metadata": {
        "colab": {
          "base_uri": "https://localhost:8080/"
        },
        "id": "Fo4-NroHVu20",
        "outputId": "23d3b50e-0302-406c-c9ad-68ff1aec57a6"
      },
      "outputs": [
        {
          "name": "stdout",
          "output_type": "stream",
          "text": [
            "Statistical profiling for numerical columns:\n",
            "+-------+------------------+------------------+------------------+------------------+-----------------+------------------+------------------+------------------+\n",
            "|summary|               mpg|         cylinders|      displacement|        horsepower|           weight|      acceleration|         modelyear|            origin|\n",
            "+-------+------------------+------------------+------------------+------------------+-----------------+------------------+------------------+------------------+\n",
            "|  count|               398|               398|               398|               392|              398|               398|               398|               398|\n",
            "|   mean|23.514572864321615| 5.454773869346734|193.42587939698493|104.46938775510205|2970.424623115578|15.568090452261291| 76.01005025125629|1.5728643216080402|\n",
            "| stddev| 7.815984312565783|1.7010042445332123|104.26983817119587| 38.49115993282846|846.8417741973268| 2.757688929812676|3.6976266467325862|0.8020548777266148|\n",
            "|    min|               9.0|                 3|              68.0|              46.0|           1613.0|               8.0|                70|                 1|\n",
            "|    25%|              17.5|                 4|             104.0|              75.0|           2223.0|              13.8|                73|                 1|\n",
            "|    50%|              23.0|                 4|             146.0|              93.0|           2800.0|              15.5|                76|                 1|\n",
            "|    75%|              29.0|                 8|             262.0|             125.0|           3609.0|              17.2|                79|                 2|\n",
            "|    max|              46.6|                 8|             455.0|             230.0|           5140.0|              24.8|                82|                 3|\n",
            "+-------+------------------+------------------+------------------+------------------+-----------------+------------------+------------------+------------------+\n",
            "\n"
          ]
        }
      ],
      "source": [
        "print(\"Statistical profiling for numerical columns:\")\n",
        "cleaned_vehicle_mpg.select(numerical_columns).summary().show()"
      ]
    },
    {
      "attachments": {
        "image.png": {
          "image/png": "[encoded data removed]"
        }
      },
      "cell_type": "markdown",
      "metadata": {
        "id": "LnAY4H2yXfEf"
      },
      "source": [
        "![image.png](attachment:image.png)"
      ]
    },
    {
      "attachments": {
        "image.png": {
          "image/png": "[encoded data removed]"
        }
      },
      "cell_type": "markdown",
      "metadata": {},
      "source": [
        "![image.png](attachment:image.png)"
      ]
    },
    {
      "cell_type": "code",
      "execution_count": null,
      "metadata": {
        "colab": {
          "base_uri": "https://localhost:8080/"
        },
        "id": "ISQwVySPfBca",
        "outputId": "4ebd168b-9459-4462-f9a6-fd0afcfe1345"
      },
      "outputs": [
        {
          "name": "stdout",
          "output_type": "stream",
          "text": [
            "Data types of each column:\n",
            "mpg: double\n",
            "cylinders: int\n",
            "displacement: double\n",
            "horsepower: double\n",
            "weight: double\n",
            "acceleration: double\n",
            "modelyear: int\n",
            "origin: int\n",
            "carname: string\n",
            "manufacturer: string\n"
          ]
        }
      ],
      "source": [
        "print(\"Data types of each column:\")\n",
        "for col_name, data_type in cleaned_vehicle_mpg.dtypes:\n",
        "    print(f\"{col_name}: {data_type}\")"
      ]
    },
    {
      "cell_type": "code",
      "execution_count": null,
      "metadata": {
        "colab": {
          "base_uri": "https://localhost:8080/"
        },
        "id": "XpEc6tjAl9jb",
        "outputId": "062ed2fa-705b-44d8-ab95-c29247b3780c"
      },
      "outputs": [
        {
          "name": "stdout",
          "output_type": "stream",
          "text": [
            "+----+---------+------------+----------+------+------------+---------+------+--------------------+------------+\n",
            "| mpg|cylinders|displacement|horsepower|weight|acceleration|modelyear|origin|             carname|manufacturer|\n",
            "+----+---------+------------+----------+------+------------+---------+------+--------------------+------------+\n",
            "|18.0|        8|       307.0|     130.0| 3504.|        12.0|       70|     1|chevrolet chevell...|   chevrolet|\n",
            "|15.0|        8|       350.0|     165.0| 3693.|        11.5|       70|     1|   buick skylark 320|       buick|\n",
            "|18.0|        8|       318.0|     150.0| 3436.|        11.0|       70|     1|  plymouth satellite|    plymouth|\n",
            "|16.0|        8|       304.0|     150.0| 3433.|        12.0|       70|     1|       amc rebel sst|         amc|\n",
            "|17.0|        8|       302.0|     140.0| 3449.|        10.5|       70|     1|         ford torino|        ford|\n",
            "|15.0|        8|       429.0|     198.0| 4341.|        10.0|       70|     1|    ford galaxie 500|        ford|\n",
            "|14.0|        8|       454.0|     220.0| 4354.|         9.0|       70|     1|    chevrolet impala|   chevrolet|\n",
            "|14.0|        8|       440.0|     215.0| 4312.|         8.5|       70|     1|   plymouth fury iii|    plymouth|\n",
            "|14.0|        8|       455.0|     225.0| 4425.|        10.0|       70|     1|    pontiac catalina|     pontiac|\n",
            "|15.0|        8|       390.0|     190.0| 3850.|         8.5|       70|     1|  amc ambassador dpl|         amc|\n",
            "|15.0|        8|       383.0|     170.0| 3563.|        10.0|       70|     1| dodge challenger se|       dodge|\n",
            "|14.0|        8|       340.0|     160.0| 3609.|         8.0|       70|     1|  plymouth 'cuda 340|    plymouth|\n",
            "|15.0|        8|       400.0|     150.0| 3761.|         9.5|       70|     1|chevrolet monte c...|   chevrolet|\n",
            "|14.0|        8|       455.0|     225.0| 3086.|        10.0|       70|     1|buick estate wago...|       buick|\n",
            "|24.0|        4|       113.0|     95.00| 2372.|        15.0|       70|     3|toyota corona mar...|      toyota|\n",
            "|22.0|        6|       198.0|     95.00| 2833.|        15.5|       70|     1|     plymouth duster|    plymouth|\n",
            "|18.0|        6|       199.0|     97.00| 2774.|        15.5|       70|     1|          amc hornet|         amc|\n",
            "|21.0|        6|       200.0|     85.00| 2587.|        16.0|       70|     1|       ford maverick|        ford|\n",
            "|27.0|        4|       97.00|     88.00| 2130.|        14.5|       70|     3|        datsun pl510|      datsun|\n",
            "|26.0|        4|       97.00|     46.00| 1835.|        20.5|       70|     2|volkswagen 1131 d...|  volkswagen|\n",
            "+----+---------+------------+----------+------+------------+---------+------+--------------------+------------+\n",
            "only showing top 20 rows\n",
            "\n"
          ]
        }
      ],
      "source": [
        "populated_cleaned_vehicle_mpg = cleaned_vehicle_mpg.withColumn(\"manufacturer\", split(col(\"carname\"), \" \")[0])\n",
        "populated_cleaned_vehicle_mpg.show()"
      ]
    },
    {
      "cell_type": "code",
      "execution_count": null,
      "metadata": {
        "colab": {
          "base_uri": "https://localhost:8080/"
        },
        "id": "vr3Amq2Xj9vY",
        "outputId": "1c66a41f-a6f9-44a5-e969-b82154e6b209"
      },
      "outputs": [
        {
          "data": {
            "text/plain": [
              "[Row(mpg=18.0, cylinders=8, displacement=307.0, horsepower=130.0, weight=3504.0, acceleration=12.0, modelyear=70, origin=1, carname='chevrolet chevelle malibu', manufacturer='chevrolet')]"
            ]
          },
          "execution_count": 67,
          "metadata": {},
          "output_type": "execute_result"
        }
      ],
      "source": [
        "populated_cleaned_vehicle_mpg.take(1)"
      ]
    },
    {
      "cell_type": "code",
      "execution_count": null,
      "metadata": {
        "colab": {
          "base_uri": "https://localhost:8080/"
        },
        "id": "XqRiSO57ZGAW",
        "outputId": "25196349-e975-46d1-888d-b6d694621e16"
      },
      "outputs": [
        {
          "name": "stdout",
          "output_type": "stream",
          "text": [
            "DataFrame after adding the 'manufacturer' column:\n",
            "+----+---------+------------+----------+------+------------+---------+------+--------------------+------------+\n",
            "| mpg|cylinders|displacement|horsepower|weight|acceleration|modelyear|origin|             carname|manufacturer|\n",
            "+----+---------+------------+----------+------+------------+---------+------+--------------------+------------+\n",
            "|18.0|        8|       307.0|     130.0| 3504.|        12.0|       70|     1|chevrolet chevell...|   chevrolet|\n",
            "|15.0|        8|       350.0|     165.0| 3693.|        11.5|       70|     1|   buick skylark 320|       buick|\n",
            "|18.0|        8|       318.0|     150.0| 3436.|        11.0|       70|     1|  plymouth satellite|    plymouth|\n",
            "|16.0|        8|       304.0|     150.0| 3433.|        12.0|       70|     1|       amc rebel sst|         amc|\n",
            "|17.0|        8|       302.0|     140.0| 3449.|        10.5|       70|     1|         ford torino|        ford|\n",
            "|15.0|        8|       429.0|     198.0| 4341.|        10.0|       70|     1|    ford galaxie 500|        ford|\n",
            "|14.0|        8|       454.0|     220.0| 4354.|         9.0|       70|     1|    chevrolet impala|   chevrolet|\n",
            "|14.0|        8|       440.0|     215.0| 4312.|         8.5|       70|     1|   plymouth fury iii|    plymouth|\n",
            "|14.0|        8|       455.0|     225.0| 4425.|        10.0|       70|     1|    pontiac catalina|     pontiac|\n",
            "|15.0|        8|       390.0|     190.0| 3850.|         8.5|       70|     1|  amc ambassador dpl|         amc|\n",
            "|15.0|        8|       383.0|     170.0| 3563.|        10.0|       70|     1| dodge challenger se|       dodge|\n",
            "|14.0|        8|       340.0|     160.0| 3609.|         8.0|       70|     1|  plymouth 'cuda 340|    plymouth|\n",
            "|15.0|        8|       400.0|     150.0| 3761.|         9.5|       70|     1|chevrolet monte c...|   chevrolet|\n",
            "|14.0|        8|       455.0|     225.0| 3086.|        10.0|       70|     1|buick estate wago...|       buick|\n",
            "|24.0|        4|       113.0|     95.00| 2372.|        15.0|       70|     3|toyota corona mar...|      toyota|\n",
            "|22.0|        6|       198.0|     95.00| 2833.|        15.5|       70|     1|     plymouth duster|    plymouth|\n",
            "|18.0|        6|       199.0|     97.00| 2774.|        15.5|       70|     1|          amc hornet|         amc|\n",
            "|21.0|        6|       200.0|     85.00| 2587.|        16.0|       70|     1|       ford maverick|        ford|\n",
            "|27.0|        4|       97.00|     88.00| 2130.|        14.5|       70|     3|        datsun pl510|      datsun|\n",
            "|26.0|        4|       97.00|     46.00| 1835.|        20.5|       70|     2|volkswagen 1131 d...|  volkswagen|\n",
            "+----+---------+------------+----------+------+------------+---------+------+--------------------+------------+\n",
            "only showing top 20 rows\n",
            "\n"
          ]
        }
      ],
      "source": [
        "print(\"DataFrame after adding the 'manufacturer' column:\")\n",
        "populated_cleaned_vehicle_mpg.show()"
      ]
    },
    {
      "cell_type": "code",
      "execution_count": null,
      "metadata": {
        "colab": {
          "base_uri": "https://localhost:8080/"
        },
        "id": "cT-vhRAgZF94",
        "outputId": "f84be4c5-d806-4ada-8074-c30b3c24f84c"
      },
      "outputs": [
        {
          "name": "stdout",
          "output_type": "stream",
          "text": [
            "Occurrences of values in the 'manufacturer' column:\n",
            "+------------+-----+\n",
            "|manufacturer|count|\n",
            "+------------+-----+\n",
            "|       buick|   17|\n",
            "|     pontiac|   16|\n",
            "|    mercedes|    1|\n",
            "|      toyota|   25|\n",
            "|        saab|    4|\n",
            "|         amc|   27|\n",
            "|          vw|    6|\n",
            "|     peugeot|    8|\n",
            "|    chrysler|    6|\n",
            "|    plymouth|   31|\n",
            "|   vokswagen|    1|\n",
            "|       chevy|    3|\n",
            "|        audi|    7|\n",
            "|      datsun|   23|\n",
            "|         bmw|    2|\n",
            "|       dodge|   28|\n",
            "|        ford|   48|\n",
            "|     toyouta|    1|\n",
            "|       capri|    1|\n",
            "|    cadillac|    2|\n",
            "+------------+-----+\n",
            "only showing top 20 rows\n",
            "\n"
          ]
        }
      ],
      "source": [
        "print(\"Occurrences of values in the 'manufacturer' column:\")\n",
        "populated_cleaned_vehicle_mpg.groupBy(\"manufacturer\").count().show()"
      ]
    },
    {
      "cell_type": "markdown",
      "metadata": {
        "id": "klNCzmhaZS5F"
      },
      "source": [
        "![image.png](data:image/png;base64,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)"
      ]
    },
    {
      "cell_type": "code",
      "execution_count": null,
      "metadata": {
        "id": "VOZbV2KjZTj-"
      },
      "outputs": [],
      "source": [
        "populated_cleaned_vehicle_mpgs = populated_cleaned_vehicle_mpg.withColumn(\"modelyear\", concat(lit(\"19\"), col(\"modelyear\")))\n"
      ]
    },
    {
      "cell_type": "code",
      "execution_count": null,
      "metadata": {
        "colab": {
          "base_uri": "https://localhost:8080/"
        },
        "id": "MbiCxXyfaDrD",
        "outputId": "bedbdc68-8079-4191-e671-05955e3cb313"
      },
      "outputs": [
        {
          "name": "stdout",
          "output_type": "stream",
          "text": [
            "DataFrame after modifying the 'modelyear' column:\n",
            "+----+---------+------------+----------+------+------------+---------+------+--------------------+------------+\n",
            "| mpg|cylinders|displacement|horsepower|weight|acceleration|modelyear|origin|             carname|manufacturer|\n",
            "+----+---------+------------+----------+------+------------+---------+------+--------------------+------------+\n",
            "|18.0|        8|       307.0|     130.0| 3504.|        12.0|     1970|     1|chevrolet chevell...|   chevrolet|\n",
            "|15.0|        8|       350.0|     165.0| 3693.|        11.5|     1970|     1|   buick skylark 320|       buick|\n",
            "|18.0|        8|       318.0|     150.0| 3436.|        11.0|     1970|     1|  plymouth satellite|    plymouth|\n",
            "|16.0|        8|       304.0|     150.0| 3433.|        12.0|     1970|     1|       amc rebel sst|         amc|\n",
            "|17.0|        8|       302.0|     140.0| 3449.|        10.5|     1970|     1|         ford torino|        ford|\n",
            "|15.0|        8|       429.0|     198.0| 4341.|        10.0|     1970|     1|    ford galaxie 500|        ford|\n",
            "|14.0|        8|       454.0|     220.0| 4354.|         9.0|     1970|     1|    chevrolet impala|   chevrolet|\n",
            "|14.0|        8|       440.0|     215.0| 4312.|         8.5|     1970|     1|   plymouth fury iii|    plymouth|\n",
            "|14.0|        8|       455.0|     225.0| 4425.|        10.0|     1970|     1|    pontiac catalina|     pontiac|\n",
            "|15.0|        8|       390.0|     190.0| 3850.|         8.5|     1970|     1|  amc ambassador dpl|         amc|\n",
            "|15.0|        8|       383.0|     170.0| 3563.|        10.0|     1970|     1| dodge challenger se|       dodge|\n",
            "|14.0|        8|       340.0|     160.0| 3609.|         8.0|     1970|     1|  plymouth 'cuda 340|    plymouth|\n",
            "|15.0|        8|       400.0|     150.0| 3761.|         9.5|     1970|     1|chevrolet monte c...|   chevrolet|\n",
            "|14.0|        8|       455.0|     225.0| 3086.|        10.0|     1970|     1|buick estate wago...|       buick|\n",
            "|24.0|        4|       113.0|     95.00| 2372.|        15.0|     1970|     3|toyota corona mar...|      toyota|\n",
            "|22.0|        6|       198.0|     95.00| 2833.|        15.5|     1970|     1|     plymouth duster|    plymouth|\n",
            "|18.0|        6|       199.0|     97.00| 2774.|        15.5|     1970|     1|          amc hornet|         amc|\n",
            "|21.0|        6|       200.0|     85.00| 2587.|        16.0|     1970|     1|       ford maverick|        ford|\n",
            "|27.0|        4|       97.00|     88.00| 2130.|        14.5|     1970|     3|        datsun pl510|      datsun|\n",
            "|26.0|        4|       97.00|     46.00| 1835.|        20.5|     1970|     2|volkswagen 1131 d...|  volkswagen|\n",
            "+----+---------+------------+----------+------+------------+---------+------+--------------------+------------+\n",
            "only showing top 20 rows\n",
            "\n"
          ]
        }
      ],
      "source": [
        "print(\"DataFrame after modifying the 'modelyear' column:\")\n",
        "populated_cleaned_vehicle_mpgs.show()"
      ]
    },
    {
      "cell_type": "code",
      "execution_count": null,
      "metadata": {
        "colab": {
          "base_uri": "https://localhost:8080/"
        },
        "id": "5vuGTQ2daDs1",
        "outputId": "3f2e1b48-f668-4bf7-ec95-a85db6c10855"
      },
      "outputs": [
        {
          "name": "stdout",
          "output_type": "stream",
          "text": [
            "Occurrences of values in the 'modelyear' column:\n",
            "+---------+-----+\n",
            "|modelyear|count|\n",
            "+---------+-----+\n",
            "|     1972|   28|\n",
            "|     1977|   28|\n",
            "|     1971|   27|\n",
            "|     1982|   30|\n",
            "|     1981|   28|\n",
            "|     1978|   36|\n",
            "|     1974|   26|\n",
            "|     1976|   34|\n",
            "|     1973|   40|\n",
            "|     1980|   27|\n",
            "|     1979|   29|\n",
            "|     1975|   30|\n",
            "|     1970|   29|\n",
            "+---------+-----+\n",
            "\n"
          ]
        }
      ],
      "source": [
        "print(\"Occurrences of values in the 'modelyear' column:\")\n",
        "populated_cleaned_vehicle_mpgs.groupBy(\"modelyear\").count().show()"
      ]
    },
    {
      "attachments": {
        "image.png": {
          "image/png": "[encoded data removed]"
        }
      },
      "cell_type": "markdown",
      "metadata": {
        "id": "wdgd0dPsgRZ8"
      },
      "source": [
        "![image.png](attachment:image.png)"
      ]
    },
    {
      "cell_type": "code",
      "execution_count": null,
      "metadata": {
        "id": "Mp8XWpSWgR8g"
      },
      "outputs": [],
      "source": [
        "new_populated_cleaned_vehicle_mpg = populated_cleaned_vehicle_mpgs.withColumn(\"mpg_class\",\n",
        "                   when(col(\"mpg\") <= 20, \"low\")\n",
        "                   .when((col(\"mpg\") > 20) & (col(\"mpg\") <= 30), \"mid\")\n",
        "                   .when((col(\"mpg\") > 30) & (col(\"mpg\") <= 40), \"high\")\n",
        "                   .when(col(\"mpg\") > 40, \"very high\")\n",
        "                   .otherwise(\"unknown\"))\n"
      ]
    },
    {
      "cell_type": "code",
      "execution_count": null,
      "metadata": {
        "colab": {
          "base_uri": "https://localhost:8080/"
        },
        "id": "BqKlmDjVgSWT",
        "outputId": "8bad98d9-813c-44c4-9264-c637f4ade48a"
      },
      "outputs": [
        {
          "name": "stdout",
          "output_type": "stream",
          "text": [
            "DataFrame after adding the 'mpg_class' column:\n",
            "+----+---------+------------+----------+------+------------+---------+------+--------------------+------------+---------+\n",
            "| mpg|cylinders|displacement|horsepower|weight|acceleration|modelyear|origin|             carname|manufacturer|mpg_class|\n",
            "+----+---------+------------+----------+------+------------+---------+------+--------------------+------------+---------+\n",
            "|18.0|        8|       307.0|     130.0|3504.0|        12.0|     1970|     1|chevrolet chevell...|   chevrolet|      low|\n",
            "|15.0|        8|       350.0|     165.0|3693.0|        11.5|     1970|     1|   buick skylark 320|       buick|      low|\n",
            "|18.0|        8|       318.0|     150.0|3436.0|        11.0|     1970|     1|  plymouth satellite|    plymouth|      low|\n",
            "|16.0|        8|       304.0|     150.0|3433.0|        12.0|     1970|     1|       amc rebel sst|         amc|      low|\n",
            "|17.0|        8|       302.0|     140.0|3449.0|        10.5|     1970|     1|         ford torino|        ford|      low|\n",
            "|15.0|        8|       429.0|     198.0|4341.0|        10.0|     1970|     1|    ford galaxie 500|        ford|      low|\n",
            "|14.0|        8|       454.0|     220.0|4354.0|         9.0|     1970|     1|    chevrolet impala|   chevrolet|      low|\n",
            "|14.0|        8|       440.0|     215.0|4312.0|         8.5|     1970|     1|   plymouth fury iii|    plymouth|      low|\n",
            "|14.0|        8|       455.0|     225.0|4425.0|        10.0|     1970|     1|    pontiac catalina|     pontiac|      low|\n",
            "|15.0|        8|       390.0|     190.0|3850.0|         8.5|     1970|     1|  amc ambassador dpl|         amc|      low|\n",
            "|15.0|        8|       383.0|     170.0|3563.0|        10.0|     1970|     1| dodge challenger se|       dodge|      low|\n",
            "|14.0|        8|       340.0|     160.0|3609.0|         8.0|     1970|     1|  plymouth 'cuda 340|    plymouth|      low|\n",
            "|15.0|        8|       400.0|     150.0|3761.0|         9.5|     1970|     1|chevrolet monte c...|   chevrolet|      low|\n",
            "|14.0|        8|       455.0|     225.0|3086.0|        10.0|     1970|     1|buick estate wago...|       buick|      low|\n",
            "|24.0|        4|       113.0|      95.0|2372.0|        15.0|     1970|     3|toyota corona mar...|      toyota|      mid|\n",
            "|22.0|        6|       198.0|      95.0|2833.0|        15.5|     1970|     1|     plymouth duster|    plymouth|      mid|\n",
            "|18.0|        6|       199.0|      97.0|2774.0|        15.5|     1970|     1|          amc hornet|         amc|      low|\n",
            "|21.0|        6|       200.0|      85.0|2587.0|        16.0|     1970|     1|       ford maverick|        ford|      mid|\n",
            "|27.0|        4|        97.0|      88.0|2130.0|        14.5|     1970|     3|        datsun pl510|      datsun|      mid|\n",
            "|26.0|        4|        97.0|      46.0|1835.0|        20.5|     1970|     2|volkswagen 1131 d...|  volkswagen|      mid|\n",
            "+----+---------+------------+----------+------+------------+---------+------+--------------------+------------+---------+\n",
            "only showing top 20 rows\n",
            "\n"
          ]
        }
      ],
      "source": [
        "print(\"DataFrame after adding the 'mpg_class' column:\")\n",
        "new_populated_cleaned_vehicle_mpg.show()"
      ]
    },
    {
      "cell_type": "code",
      "execution_count": null,
      "metadata": {
        "colab": {
          "base_uri": "https://localhost:8080/"
        },
        "id": "CWgn11dagSUT",
        "outputId": "2e0b2d69-1fad-439b-c5e2-a6d226f05f7f"
      },
      "outputs": [
        {
          "name": "stdout",
          "output_type": "stream",
          "text": [
            "Occurrences of values in the 'mpg_class' column:\n",
            "+---------+-----+\n",
            "|mpg_class|count|\n",
            "+---------+-----+\n",
            "|      low|  160|\n",
            "|      mid|  149|\n",
            "|     high|   75|\n",
            "|very high|    8|\n",
            "+---------+-----+\n",
            "\n"
          ]
        }
      ],
      "source": [
        "print(\"Occurrences of values in the 'mpg_class' column:\")\n",
        "new_populated_cleaned_vehicle_mpg.groupBy(\"mpg_class\").count().show()"
      ]
    },
    {
      "attachments": {
        "image.png": {
          "image/png": "[encoded data removed]"
        }
      },
      "cell_type": "markdown",
      "metadata": {
        "id": "5Dg1ZpSvgrNz"
      },
      "source": [
        "![image.png](attachment:image.png)"
      ]
    },
    {
      "cell_type": "code",
      "execution_count": null,
      "metadata": {
        "id": "20TaXqyrgSSL"
      },
      "outputs": [],
      "source": [
        "vehicle_manufacturers = spark.read.option(\"header\", \"true\").csv(\"vehicle_manufacturers.csv\")\n"
      ]
    },
    {
      "cell_type": "code",
      "execution_count": null,
      "metadata": {
        "colab": {
          "base_uri": "https://localhost:8080/"
        },
        "id": "GKtdzvnchBco",
        "outputId": "1c58525c-1226-48fa-ca1b-acb77fcfc2ed"
      },
      "outputs": [
        {
          "name": "stdout",
          "output_type": "stream",
          "text": [
            "+-------------+-------+\n",
            "| manufacturer|country|\n",
            "+-------------+-------+\n",
            "|          amc|     us|\n",
            "|         audi|germany|\n",
            "|          bmw|germany|\n",
            "|        buick|     us|\n",
            "|     cadillac|     us|\n",
            "|        capri|     us|\n",
            "|    chevroelt|     us|\n",
            "|    chevrolet|     us|\n",
            "|        chevy|     us|\n",
            "|     chrysler|     us|\n",
            "|       datsun|  japan|\n",
            "|        dodge|     us|\n",
            "|         fiat|  italy|\n",
            "|         ford|     us|\n",
            "|           hi|     us|\n",
            "|        honda|  japan|\n",
            "|        maxda|  japan|\n",
            "|        mazda|  japan|\n",
            "|     mercedes|germany|\n",
            "|mercedes-benz|germany|\n",
            "+-------------+-------+\n",
            "only showing top 20 rows\n",
            "\n"
          ]
        }
      ],
      "source": [
        "vehicle_manufacturers.show()"
      ]
    },
    {
      "cell_type": "code",
      "execution_count": null,
      "metadata": {
        "id": "lUyHbU2xhNBR"
      },
      "outputs": [],
      "source": [
        "combined_df = new_populated_cleaned_vehicle_mpg.join(vehicle_manufacturers, new_populated_cleaned_vehicle_mpg[\"manufacturer\"] == vehicle_manufacturers[\"manufacturer\"], \"inner\")\n"
      ]
    },
    {
      "cell_type": "code",
      "execution_count": null,
      "metadata": {
        "colab": {
          "base_uri": "https://localhost:8080/"
        },
        "id": "aSNQo9HAU7sG",
        "outputId": "8f55b256-d1f7-47a7-87a2-7d8aa9a00904"
      },
      "outputs": [
        {
          "name": "stdout",
          "output_type": "stream",
          "text": [
            "DataFrame after joining dataframes:\n",
            "+----+---------+------------+----------+------+------------+---------+------+--------------------+------------+---------+------------+-------+\n",
            "| mpg|cylinders|displacement|horsepower|weight|acceleration|modelyear|origin|             carname|manufacturer|mpg_class|manufacturer|country|\n",
            "+----+---------+------------+----------+------+------------+---------+------+--------------------+------------+---------+------------+-------+\n",
            "|18.0|        8|       307.0|     130.0|3504.0|        12.0|     1970|     1|chevrolet chevell...|   chevrolet|      low|   chevrolet|     us|\n",
            "|15.0|        8|       350.0|     165.0|3693.0|        11.5|     1970|     1|   buick skylark 320|       buick|      low|       buick|     us|\n",
            "|18.0|        8|       318.0|     150.0|3436.0|        11.0|     1970|     1|  plymouth satellite|    plymouth|      low|    plymouth|     us|\n",
            "|16.0|        8|       304.0|     150.0|3433.0|        12.0|     1970|     1|       amc rebel sst|         amc|      low|         amc|     us|\n",
            "|17.0|        8|       302.0|     140.0|3449.0|        10.5|     1970|     1|         ford torino|        ford|      low|        ford|     us|\n",
            "|15.0|        8|       429.0|     198.0|4341.0|        10.0|     1970|     1|    ford galaxie 500|        ford|      low|        ford|     us|\n",
            "|14.0|        8|       454.0|     220.0|4354.0|         9.0|     1970|     1|    chevrolet impala|   chevrolet|      low|   chevrolet|     us|\n",
            "|14.0|        8|       440.0|     215.0|4312.0|         8.5|     1970|     1|   plymouth fury iii|    plymouth|      low|    plymouth|     us|\n",
            "|14.0|        8|       455.0|     225.0|4425.0|        10.0|     1970|     1|    pontiac catalina|     pontiac|      low|     pontiac|     us|\n",
            "|15.0|        8|       390.0|     190.0|3850.0|         8.5|     1970|     1|  amc ambassador dpl|         amc|      low|         amc|     us|\n",
            "|15.0|        8|       383.0|     170.0|3563.0|        10.0|     1970|     1| dodge challenger se|       dodge|      low|       dodge|     us|\n",
            "|14.0|        8|       340.0|     160.0|3609.0|         8.0|     1970|     1|  plymouth 'cuda 340|    plymouth|      low|    plymouth|     us|\n",
            "|15.0|        8|       400.0|     150.0|3761.0|         9.5|     1970|     1|chevrolet monte c...|   chevrolet|      low|   chevrolet|     us|\n",
            "|14.0|        8|       455.0|     225.0|3086.0|        10.0|     1970|     1|buick estate wago...|       buick|      low|       buick|     us|\n",
            "|24.0|        4|       113.0|      95.0|2372.0|        15.0|     1970|     3|toyota corona mar...|      toyota|      mid|      toyota|  japan|\n",
            "|22.0|        6|       198.0|      95.0|2833.0|        15.5|     1970|     1|     plymouth duster|    plymouth|      mid|    plymouth|     us|\n",
            "|18.0|        6|       199.0|      97.0|2774.0|        15.5|     1970|     1|          amc hornet|         amc|      low|         amc|     us|\n",
            "|21.0|        6|       200.0|      85.0|2587.0|        16.0|     1970|     1|       ford maverick|        ford|      mid|        ford|     us|\n",
            "|27.0|        4|        97.0|      88.0|2130.0|        14.5|     1970|     3|        datsun pl510|      datsun|      mid|      datsun|  japan|\n",
            "|26.0|        4|        97.0|      46.0|1835.0|        20.5|     1970|     2|volkswagen 1131 d...|  volkswagen|      mid|  volkswagen|germany|\n",
            "+----+---------+------------+----------+------+------------+---------+------+--------------------+------------+---------+------------+-------+\n",
            "only showing top 20 rows\n",
            "\n"
          ]
        }
      ],
      "source": [
        "print(\"DataFrame after joining dataframes:\")\n",
        "combined_df.show()"
      ]
    },
    {
      "cell_type": "code",
      "execution_count": null,
      "metadata": {
        "id": "l7kUS_ZyVI97"
      },
      "outputs": [],
      "source": [
        "cleaned_combined_df = combined_df.drop(vehicle_manufacturers[\"manufacturer\"])"
      ]
    },
    {
      "cell_type": "code",
      "execution_count": null,
      "metadata": {
        "colab": {
          "base_uri": "https://localhost:8080/"
        },
        "id": "hk5DgBQBVNmd",
        "outputId": "1f6eb30d-bf51-4b43-fcfb-a53b3463ddf9"
      },
      "outputs": [
        {
          "name": "stdout",
          "output_type": "stream",
          "text": [
            "DataFrame after joining dataframes:\n",
            "+----+---------+------------+----------+------+------------+---------+------+--------------------+------------+---------+-------+\n",
            "| mpg|cylinders|displacement|horsepower|weight|acceleration|modelyear|origin|             carname|manufacturer|mpg_class|country|\n",
            "+----+---------+------------+----------+------+------------+---------+------+--------------------+------------+---------+-------+\n",
            "|18.0|        8|       307.0|     130.0|3504.0|        12.0|     1970|     1|chevrolet chevell...|   chevrolet|      low|     us|\n",
            "|15.0|        8|       350.0|     165.0|3693.0|        11.5|     1970|     1|   buick skylark 320|       buick|      low|     us|\n",
            "|18.0|        8|       318.0|     150.0|3436.0|        11.0|     1970|     1|  plymouth satellite|    plymouth|      low|     us|\n",
            "|16.0|        8|       304.0|     150.0|3433.0|        12.0|     1970|     1|       amc rebel sst|         amc|      low|     us|\n",
            "|17.0|        8|       302.0|     140.0|3449.0|        10.5|     1970|     1|         ford torino|        ford|      low|     us|\n",
            "|15.0|        8|       429.0|     198.0|4341.0|        10.0|     1970|     1|    ford galaxie 500|        ford|      low|     us|\n",
            "|14.0|        8|       454.0|     220.0|4354.0|         9.0|     1970|     1|    chevrolet impala|   chevrolet|      low|     us|\n",
            "|14.0|        8|       440.0|     215.0|4312.0|         8.5|     1970|     1|   plymouth fury iii|    plymouth|      low|     us|\n",
            "|14.0|        8|       455.0|     225.0|4425.0|        10.0|     1970|     1|    pontiac catalina|     pontiac|      low|     us|\n",
            "|15.0|        8|       390.0|     190.0|3850.0|         8.5|     1970|     1|  amc ambassador dpl|         amc|      low|     us|\n",
            "|15.0|        8|       383.0|     170.0|3563.0|        10.0|     1970|     1| dodge challenger se|       dodge|      low|     us|\n",
            "|14.0|        8|       340.0|     160.0|3609.0|         8.0|     1970|     1|  plymouth 'cuda 340|    plymouth|      low|     us|\n",
            "|15.0|        8|       400.0|     150.0|3761.0|         9.5|     1970|     1|chevrolet monte c...|   chevrolet|      low|     us|\n",
            "|14.0|        8|       455.0|     225.0|3086.0|        10.0|     1970|     1|buick estate wago...|       buick|      low|     us|\n",
            "|24.0|        4|       113.0|      95.0|2372.0|        15.0|     1970|     3|toyota corona mar...|      toyota|      mid|  japan|\n",
            "|22.0|        6|       198.0|      95.0|2833.0|        15.5|     1970|     1|     plymouth duster|    plymouth|      mid|     us|\n",
            "|18.0|        6|       199.0|      97.0|2774.0|        15.5|     1970|     1|          amc hornet|         amc|      low|     us|\n",
            "|21.0|        6|       200.0|      85.0|2587.0|        16.0|     1970|     1|       ford maverick|        ford|      mid|     us|\n",
            "|27.0|        4|        97.0|      88.0|2130.0|        14.5|     1970|     3|        datsun pl510|      datsun|      mid|  japan|\n",
            "|26.0|        4|        97.0|      46.0|1835.0|        20.5|     1970|     2|volkswagen 1131 d...|  volkswagen|      mid|germany|\n",
            "+----+---------+------------+----------+------+------------+---------+------+--------------------+------------+---------+-------+\n",
            "only showing top 20 rows\n",
            "\n"
          ]
        }
      ],
      "source": [
        "print(\"DataFrame after joining dataframes:\")\n",
        "cleaned_combined_df.show()"
      ]
    },
    {
      "attachments": {
        "image.png": {
          "image/png": "[encoded data removed]"
        }
      },
      "cell_type": "markdown",
      "metadata": {
        "id": "Cw7wQRGdhrAF"
      },
      "source": [
        "![image.png](attachment:image.png)"
      ]
    },
    {
      "cell_type": "code",
      "execution_count": null,
      "metadata": {
        "colab": {
          "base_uri": "https://localhost:8080/"
        },
        "id": "psy8IHO-iG5b",
        "outputId": "a318e63c-74d3-438e-a1d9-9d26bfb81103"
      },
      "outputs": [
        {
          "name": "stdout",
          "output_type": "stream",
          "text": [
            "Average, Minimum, and Maximum MPG for every country\n",
            "+-------+-------+-------+-------+\n",
            "|country|avg_mpg|min_mpg|max_mpg|\n",
            "+-------+-------+-------+-------+\n",
            "|     uk|   35.0|   35.0|   35.0|\n",
            "|  japan|  30.45|   18.0|   46.6|\n",
            "|germany|  29.21|   16.5|   44.3|\n",
            "|  italy|  28.91|   24.0|   37.3|\n",
            "| france|  25.32|   16.2|   36.0|\n",
            "| sweden|  22.23|   17.0|   30.7|\n",
            "|     us|  20.03|    9.0|   39.0|\n",
            "+-------+-------+-------+-------+\n",
            "\n"
          ]
        }
      ],
      "source": [
        "all_country_stats = cleaned_combined_df.groupBy(\"country\").agg(\n",
        "    round(avg(\"mpg\"), 2).alias(\"avg_mpg\"),\n",
        "    min(\"mpg\").alias(\"min_mpg\"),\n",
        "    max(\"mpg\").alias(\"max_mpg\")\n",
        ").sort(desc(\"avg_mpg\"))\n",
        "\n",
        "print(\"Average, Minimum, and Maximum MPG for every country\")\n",
        "all_country_stats.show()"
      ]
    },
    {
      "cell_type": "code",
      "execution_count": null,
      "metadata": {
        "colab": {
          "base_uri": "https://localhost:8080/"
        },
        "id": "WgS0PCmLhrtc",
        "outputId": "4791a0e9-2b84-455b-c913-fe2a0660f12d"
      },
      "outputs": [
        {
          "name": "stdout",
          "output_type": "stream",
          "text": [
            "Average, Minimum, and Maximum MPG for every cylinder\n",
            "+---------+-------+-------+-------+\n",
            "|cylinders|avg_mpg|min_mpg|max_mpg|\n",
            "+---------+-------+-------+-------+\n",
            "|        4|  29.28|   18.0|   46.6|\n",
            "|        5|  27.37|   20.3|   36.4|\n",
            "|        3|  20.55|   18.0|   23.7|\n",
            "|        6|  19.97|   15.0|   38.0|\n",
            "|        8|  14.96|    9.0|   26.6|\n",
            "+---------+-------+-------+-------+\n",
            "\n"
          ]
        }
      ],
      "source": [
        "all_cylinder_stats = cleaned_combined_df.groupBy(\"cylinders\").agg(\n",
        "    round(avg(\"mpg\"), 2).alias(\"avg_mpg\"),\n",
        "    min(\"mpg\").alias(\"min_mpg\"),\n",
        "    max(\"mpg\").alias(\"max_mpg\")\n",
        ").sort(desc(\"avg_mpg\"))\n",
        "\n",
        "print(\"Average, Minimum, and Maximum MPG for every cylinder\")\n",
        "all_cylinder_stats.show()"
      ]
    },
    {
      "cell_type": "code",
      "execution_count": null,
      "metadata": {
        "colab": {
          "base_uri": "https://localhost:8080/"
        },
        "id": "iFdewuDnhsNl",
        "outputId": "83bd1100-42eb-4438-ad97-149659683497"
      },
      "outputs": [
        {
          "name": "stdout",
          "output_type": "stream",
          "text": [
            "Average, Minimum, and Maximum MPG for every model year\n",
            "+---------+-------+-------+-------+\n",
            "|modelyear|avg_mpg|min_mpg|max_mpg|\n",
            "+---------+-------+-------+-------+\n",
            "|     1980|   33.8|   19.1|   46.6|\n",
            "|     1982|   32.0|   22.0|   44.0|\n",
            "|     1981|  30.19|   17.6|   39.1|\n",
            "|     1979|  25.09|   15.5|   37.3|\n",
            "|     1978|  24.06|   16.2|   43.1|\n",
            "|     1977|  23.38|   15.0|   36.0|\n",
            "|     1974|  22.77|   13.0|   32.0|\n",
            "|     1976|  21.57|   13.0|   33.0|\n",
            "|     1971|  21.11|   12.0|   35.0|\n",
            "|     1975|  20.27|   13.0|   33.0|\n",
            "|     1972|  18.71|   11.0|   28.0|\n",
            "|     1970|  17.69|    9.0|   27.0|\n",
            "|     1973|   17.1|   11.0|   29.0|\n",
            "+---------+-------+-------+-------+\n",
            "\n"
          ]
        }
      ],
      "source": [
        "all_model_year_stats = cleaned_combined_df.groupBy(\"modelyear\").agg(\n",
        "    round(avg(\"mpg\"), 2).alias(\"avg_mpg\"),\n",
        "    min(\"mpg\").alias(\"min_mpg\"),\n",
        "    max(\"mpg\").alias(\"max_mpg\")\n",
        ").sort(desc(\"avg_mpg\"))\n",
        "\n",
        "print(\"Average, Minimum, and Maximum MPG for every model year\")\n",
        "all_model_year_stats.show()"
      ]
    },
    {
      "cell_type": "code",
      "execution_count": null,
      "metadata": {
        "colab": {
          "base_uri": "https://localhost:8080/"
        },
        "id": "_XOjYH5zWi5-",
        "outputId": "4c878079-9102-4bc2-f339-7dcf8fa7a360"
      },
      "outputs": [
        {
          "data": {
            "text/plain": [
              "DataFrame[mpg: double, cylinders: int, displacement: double, horsepower: double, weight: double, acceleration: double, modelyear: string, origin: int, carname: string, manufacturer: string, mpg_class: string, country: string]"
            ]
          },
          "execution_count": 86,
          "metadata": {},
          "output_type": "execute_result"
        }
      ],
      "source": [
        "cleaned_combined_df"
      ]
    },
    {
      "cell_type": "code",
      "execution_count": null,
      "metadata": {
        "colab": {
          "base_uri": "https://localhost:8080/"
        },
        "id": "DMcaLgQ4hsLt",
        "outputId": "ba4833e8-0ab8-4402-e401-2e0fa6ed5cb1"
      },
      "outputs": [
        {
          "name": "stdout",
          "output_type": "stream",
          "text": [
            "Average, Minimum, and Maximum MPG for every manufacturer\n",
            "+------------+-------+-------+-------+\n",
            "|manufacturer|avg_mpg|min_mpg|max_mpg|\n",
            "+------------+-------+-------+-------+\n",
            "|          vw|  39.02|   29.0|   44.3|\n",
            "|      nissan|   36.0|   36.0|   36.0|\n",
            "|     triumph|   35.0|   35.0|   35.0|\n",
            "|       honda|  33.76|   24.0|   44.6|\n",
            "|      datsun|  31.11|   22.0|   40.8|\n",
            "|       mazda|  30.86|   19.0|   46.6|\n",
            "|      subaru|  30.53|   26.0|   33.8|\n",
            "|   vokswagen|   29.8|   29.8|   29.8|\n",
            "|     renault|  29.67|   26.0|   36.0|\n",
            "|  volkswagen|  29.11|   22.0|   43.1|\n",
            "|        fiat|  28.91|   24.0|   37.3|\n",
            "|      toyota|  28.37|   19.0|   39.1|\n",
            "|        audi|  26.71|   20.0|   36.4|\n",
            "|       maxda|  26.05|   18.0|   34.1|\n",
            "|        opel|  25.75|   24.0|   28.0|\n",
            "|    mercedes|   25.4|   25.4|   25.4|\n",
            "|       capri|   25.0|   25.0|   25.0|\n",
            "|        saab|   23.9|   21.6|   25.0|\n",
            "|         bmw|  23.75|   21.5|   26.0|\n",
            "|     peugeot|  23.69|   16.2|   30.0|\n",
            "+------------+-------+-------+-------+\n",
            "only showing top 20 rows\n",
            "\n"
          ]
        }
      ],
      "source": [
        "all_manufacturer_stats = cleaned_combined_df.groupBy(\"manufacturer\").agg(\n",
        "    round(avg(\"mpg\"), 2).alias(\"avg_mpg\"),\n",
        "    min(\"mpg\").alias(\"min_mpg\"),\n",
        "    max(\"mpg\").alias(\"max_mpg\")\n",
        ").sort(desc(\"avg_mpg\"))\n",
        "\n",
        "print(\"Average, Minimum, and Maximum MPG for every manufacturer\")\n",
        "all_manufacturer_stats.show()"
      ]
    },
    {
      "cell_type": "code",
      "execution_count": null,
      "metadata": {
        "colab": {
          "base_uri": "https://localhost:8080/"
        },
        "id": "s78k4FSwhsJi",
        "outputId": "a0080c1a-d158-4cbb-8305-708d4a9517fe"
      },
      "outputs": [
        {
          "name": "stdout",
          "output_type": "stream",
          "text": [
            "Average, Minimum, and Maximum MPG for every carname and manufacturer\n",
            "+--------------------+------------+-------+\n",
            "|             carname|manufacturer|avg_mpg|\n",
            "+--------------------+------------+-------+\n",
            "|           mazda glc|       mazda|   46.6|\n",
            "| honda civic 1500 gl|       honda|   44.6|\n",
            "|vw rabbit c (diesel)|          vw|   44.3|\n",
            "|           vw pickup|          vw|   44.0|\n",
            "|  vw dasher (diesel)|          vw|   43.4|\n",
            "|volkswagen rabbit...|  volkswagen|   43.1|\n",
            "|      datsun b210 gx|      datsun|   39.4|\n",
            "|      toyota starlet|      toyota|   39.1|\n",
            "|      plymouth champ|    plymouth|   39.0|\n",
            "|toyota corolla te...|      toyota|   38.1|\n",
            "|plymouth horizon ...|    plymouth|   38.0|\n",
            "|       datsun 310 gx|      datsun|   38.0|\n",
            "|oldsmobile cutlas...|  oldsmobile|   38.0|\n",
            "|       toyota tercel|      toyota|   37.7|\n",
            "|  fiat strada custom|        fiat|   37.3|\n",
            "|          datsun 310|      datsun|   37.2|\n",
            "|  mazda glc custom l|       mazda|   37.0|\n",
            "|      datsun 210 mpg|      datsun|   37.0|\n",
            "|datsun 510 hatchback|      datsun|   37.0|\n",
            "| audi 5000s (diesel)|        audi|   36.4|\n",
            "+--------------------+------------+-------+\n",
            "only showing top 20 rows\n",
            "\n"
          ]
        }
      ],
      "source": [
        "all_carname_manufacturer_stats = cleaned_combined_df.groupBy(\"carname\", \"manufacturer\").agg(\n",
        "    round(avg(\"mpg\"), 2).alias(\"avg_mpg\"),\n",
        ").sort(desc(\"avg_mpg\"))\n",
        "\n",
        "print(\"Average, Minimum, and Maximum MPG for every carname and manufacturer\")\n",
        "all_carname_manufacturer_stats.show()"
      ]
    },
    {
      "attachments": {
        "image.png": {
          "image/png": "[encoded data removed]"
        }
      },
      "cell_type": "markdown",
      "metadata": {
        "id": "6MxltXGCY7sz"
      },
      "source": [
        "![image.png](attachment:image.png)"
      ]
    },
    {
      "cell_type": "code",
      "execution_count": null,
      "metadata": {
        "id": "uAtVm2wjY8r1"
      },
      "outputs": [],
      "source": [
        "cleaned_combined_df.createOrReplaceTempView(\"combined_data\")\n"
      ]
    },
    {
      "cell_type": "code",
      "execution_count": null,
      "metadata": {
        "colab": {
          "base_uri": "https://localhost:8080/"
        },
        "id": "kVf7Y_7OZwET",
        "outputId": "fa048f11-2ac4-42c6-816e-6b06122205b3"
      },
      "outputs": [
        {
          "name": "stdout",
          "output_type": "stream",
          "text": [
            "+-------+-------+-------+-------+\n",
            "|country|avg_mpg|min_mpg|max_mpg|\n",
            "+-------+-------+-------+-------+\n",
            "|     uk|   35.0|   35.0|   35.0|\n",
            "|  japan|  30.45|   18.0|   46.6|\n",
            "|germany|  29.21|   16.5|   44.3|\n",
            "|  italy|  28.91|   24.0|   37.3|\n",
            "| france|  25.32|   16.2|   36.0|\n",
            "| sweden|  22.23|   17.0|   30.7|\n",
            "|     us|  20.03|    9.0|   39.0|\n",
            "+-------+-------+-------+-------+\n",
            "\n"
          ]
        }
      ],
      "source": [
        "country_stats_sql = spark.sql(\"\"\"\n",
        "    SELECT country, ROUND(AVG(mpg), 2) AS avg_mpg, MIN(mpg) AS min_mpg, MAX(mpg) AS max_mpg\n",
        "    FROM combined_data\n",
        "    GROUP BY country\n",
        "    ORDER BY AVG(mpg) DESC\n",
        "    LIMIT 20\n",
        "\"\"\")\n",
        "country_stats_sql.show()"
      ]
    },
    {
      "cell_type": "code",
      "execution_count": null,
      "metadata": {
        "colab": {
          "base_uri": "https://localhost:8080/"
        },
        "id": "UrtjfaRHaDqz",
        "outputId": "3588009f-2dc8-4858-caee-d92001e4b610"
      },
      "outputs": [
        {
          "name": "stdout",
          "output_type": "stream",
          "text": [
            "+---------+-------+-------+-------+\n",
            "|cylinders|avg_mpg|min_mpg|max_mpg|\n",
            "+---------+-------+-------+-------+\n",
            "|        4|  29.28|   18.0|   46.6|\n",
            "|        5|  27.37|   20.3|   36.4|\n",
            "|        3|  20.55|   18.0|   23.7|\n",
            "|        6|  19.97|   15.0|   38.0|\n",
            "|        8|  14.96|    9.0|   26.6|\n",
            "+---------+-------+-------+-------+\n",
            "\n"
          ]
        }
      ],
      "source": [
        "cylinder_stats_sql = spark.sql(\"\"\"\n",
        "    SELECT cylinders, ROUND(AVG(mpg), 2) AS avg_mpg, MIN(mpg) AS min_mpg, MAX(mpg) AS max_mpg\n",
        "    FROM combined_data\n",
        "    GROUP BY cylinders\n",
        "    ORDER BY AVG(mpg) DESC\n",
        "    LIMIT 20\n",
        "\"\"\")\n",
        "cylinder_stats_sql.show()"
      ]
    },
    {
      "cell_type": "code",
      "execution_count": null,
      "metadata": {
        "colab": {
          "base_uri": "https://localhost:8080/"
        },
        "id": "69BmYvHkaDn2",
        "outputId": "3b641528-543c-411d-96c0-aa04d3b20746"
      },
      "outputs": [
        {
          "name": "stdout",
          "output_type": "stream",
          "text": [
            "+---------+-------+-------+-------+\n",
            "|modelyear|avg_mpg|min_mpg|max_mpg|\n",
            "+---------+-------+-------+-------+\n",
            "|     1980|   33.8|   19.1|   46.6|\n",
            "|     1982|   32.0|   22.0|   44.0|\n",
            "|     1981|  30.19|   17.6|   39.1|\n",
            "|     1979|  25.09|   15.5|   37.3|\n",
            "|     1978|  24.06|   16.2|   43.1|\n",
            "|     1977|  23.38|   15.0|   36.0|\n",
            "|     1974|  22.77|   13.0|   32.0|\n",
            "|     1976|  21.57|   13.0|   33.0|\n",
            "|     1971|  21.11|   12.0|   35.0|\n",
            "|     1975|  20.27|   13.0|   33.0|\n",
            "|     1972|  18.71|   11.0|   28.0|\n",
            "|     1970|  17.69|    9.0|   27.0|\n",
            "|     1973|   17.1|   11.0|   29.0|\n",
            "+---------+-------+-------+-------+\n",
            "\n"
          ]
        }
      ],
      "source": [
        "model_year_stats_sql = spark.sql(\"\"\"\n",
        "    SELECT modelyear, ROUND(AVG(mpg), 2) AS avg_mpg, MIN(mpg) AS min_mpg, MAX(mpg) AS max_mpg\n",
        "    FROM combined_data\n",
        "    GROUP BY modelyear\n",
        "    ORDER BY AVG(mpg) DESC\n",
        "    LIMIT 20\n",
        "\"\"\")\n",
        "model_year_stats_sql.show()"
      ]
    },
    {
      "cell_type": "code",
      "execution_count": null,
      "metadata": {
        "colab": {
          "base_uri": "https://localhost:8080/"
        },
        "id": "aRgDlkqBa1NT",
        "outputId": "5513e4a1-eada-4c37-edb4-9f2381ea19c6"
      },
      "outputs": [
        {
          "name": "stdout",
          "output_type": "stream",
          "text": [
            "+------------+-------+-------+-------+\n",
            "|manufacturer|avg_mpg|min_mpg|max_mpg|\n",
            "+------------+-------+-------+-------+\n",
            "|          vw|  39.02|   29.0|   44.3|\n",
            "|      nissan|   36.0|   36.0|   36.0|\n",
            "|     triumph|   35.0|   35.0|   35.0|\n",
            "|       honda|  33.76|   24.0|   44.6|\n",
            "|      datsun|  31.11|   22.0|   40.8|\n",
            "|       mazda|  30.86|   19.0|   46.6|\n",
            "|      subaru|  30.53|   26.0|   33.8|\n",
            "|   vokswagen|   29.8|   29.8|   29.8|\n",
            "|     renault|  29.67|   26.0|   36.0|\n",
            "|  volkswagen|  29.11|   22.0|   43.1|\n",
            "|        fiat|  28.91|   24.0|   37.3|\n",
            "|      toyota|  28.37|   19.0|   39.1|\n",
            "|        audi|  26.71|   20.0|   36.4|\n",
            "|       maxda|  26.05|   18.0|   34.1|\n",
            "|        opel|  25.75|   24.0|   28.0|\n",
            "|    mercedes|   25.4|   25.4|   25.4|\n",
            "|       capri|   25.0|   25.0|   25.0|\n",
            "|        saab|   23.9|   21.6|   25.0|\n",
            "|         bmw|  23.75|   21.5|   26.0|\n",
            "|     peugeot|  23.69|   16.2|   30.0|\n",
            "+------------+-------+-------+-------+\n",
            "\n"
          ]
        }
      ],
      "source": [
        "manufacturer_stats_sql = spark.sql(\"\"\"\n",
        "    SELECT manufacturer, ROUND(AVG(mpg), 2) AS avg_mpg, MIN(mpg) AS min_mpg, MAX(mpg) AS max_mpg\n",
        "    FROM combined_data\n",
        "    GROUP BY manufacturer\n",
        "    ORDER BY AVG(mpg) DESC\n",
        "    LIMIT 20\n",
        "\"\"\")\n",
        "manufacturer_stats_sql.show()"
      ]
    },
    {
      "cell_type": "code",
      "execution_count": null,
      "metadata": {
        "colab": {
          "base_uri": "https://localhost:8080/"
        },
        "id": "Q01OcV6Fa1LX",
        "outputId": "47526377-3fda-495b-901b-f581b43591a0"
      },
      "outputs": [
        {
          "name": "stdout",
          "output_type": "stream",
          "text": [
            "+--------------------+------------+-------+\n",
            "|             carname|manufacturer|avg_mpg|\n",
            "+--------------------+------------+-------+\n",
            "|           mazda glc|       mazda|   46.6|\n",
            "| honda civic 1500 gl|       honda|   44.6|\n",
            "|vw rabbit c (diesel)|          vw|   44.3|\n",
            "|           vw pickup|          vw|   44.0|\n",
            "|  vw dasher (diesel)|          vw|   43.4|\n",
            "|volkswagen rabbit...|  volkswagen|   43.1|\n",
            "|      datsun b210 gx|      datsun|   39.4|\n",
            "|      toyota starlet|      toyota|   39.1|\n",
            "|      plymouth champ|    plymouth|   39.0|\n",
            "|toyota corolla te...|      toyota|   38.1|\n",
            "|       datsun 310 gx|      datsun|   38.0|\n",
            "|plymouth horizon ...|    plymouth|   38.0|\n",
            "|oldsmobile cutlas...|  oldsmobile|   38.0|\n",
            "|       toyota tercel|      toyota|   37.7|\n",
            "|  fiat strada custom|        fiat|   37.3|\n",
            "|          datsun 310|      datsun|   37.2|\n",
            "|  mazda glc custom l|       mazda|   37.0|\n",
            "|      datsun 210 mpg|      datsun|   37.0|\n",
            "|datsun 510 hatchback|      datsun|   37.0|\n",
            "| audi 5000s (diesel)|        audi|   36.4|\n",
            "+--------------------+------------+-------+\n",
            "\n"
          ]
        }
      ],
      "source": [
        "carname_manufacturer_sql = spark.sql(\"\"\"\n",
        "    SELECT carname, manufacturer, ROUND(AVG(mpg), 2) AS avg_mpg\n",
        "    FROM combined_data\n",
        "    GROUP BY carname, manufacturer\n",
        "    ORDER BY AVG(mpg) DESC\n",
        "    LIMIT 20\n",
        "\"\"\")\n",
        "carname_manufacturer_sql.show()"
      ]
    }
  ],
  "metadata": {
    "colab": {
      "provenance": []
    },
    "kernelspec": {
      "display_name": "Python 3",
      "name": "python3"
    },
    "language_info": {
      "name": "python"
    }
  },
  "nbformat": 4,
  "nbformat_minor": 0
}
