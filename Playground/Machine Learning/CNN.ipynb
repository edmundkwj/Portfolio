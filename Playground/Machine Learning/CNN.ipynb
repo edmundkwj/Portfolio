{
 "cells": [
  {
   "cell_type": "code",
   "execution_count": 1,
   "metadata": {
    "id": "vCzy146VWjPC"
   },
   "outputs": [],
   "source": [
    "import numpy as np  \n",
    "import pandas as pd  \n",
    "import matplotlib.pyplot as plt \n",
    "import seaborn as sns \n",
    "\n",
    "from sklearn.datasets import load_wine\n",
    "from sklearn import datasets, linear_model, metrics\n",
    "from sklearn.model_selection import train_test_split, cross_val_score\n",
    "from sklearn.metrics import mean_squared_error, r2_score, roc_curve, auc\n",
    "from sklearn.preprocessing import StandardScaler\n",
    "from sklearn.linear_model import SGDRegressor\n",
    "from sklearn.neighbors import KNeighborsClassifier\n",
    "from sklearn.naive_bayes import GaussianNB\n",
    "\n",
    "import tensorflow as tf\n",
    "import tensorflow_datasets as tfds\n",
    "from tensorflow.keras.layers import Layer\n",
    "from tensorflow.keras import Model\n",
    "from tensorflow.keras.activations import relu,sigmoid, softmax, tanh\n",
    "from tensorflow.keras.initializers import glorot_normal\n",
    "from keras.callbacks import ModelCheckpoint\n",
    "from keras.utils import np_utils\n",
    "\n",
    "from sklearn.metrics import confusion_matrix,classification_report, plot_confusion_matrix\n",
    "from sklearn.datasets import make_circles\n",
    "from sklearn.metrics import accuracy_score\n",
    "from sklearn.metrics import precision_score\n",
    "from sklearn.metrics import recall_score\n",
    "from sklearn.metrics import f1_score\n",
    "from sklearn.metrics import cohen_kappa_score\n",
    "from sklearn.metrics import roc_auc_score\n",
    "from sklearn.ensemble import RandomForestClassifier\n",
    "from sklearn.tree import plot_tree\n",
    "from sklearn.model_selection import GridSearchCV\n",
    "\n",
    "from keras.datasets import fashion_mnist\n",
    "from keras.models import Sequential\n",
    "from keras.layers import Dense, Conv2D, Flatten, MaxPooling2D, Dropout\n",
    "from keras.utils import to_categorical\n",
    "\n",
    "from sklearn.model_selection import StratifiedShuffleSplit"
   ]
  },
  {
   "cell_type": "code",
   "execution_count": 2,
   "metadata": {
    "colab": {
     "base_uri": "https://localhost:8080/"
    },
    "id": "X1Hm1D3UleLJ",
    "outputId": "bc68320a-0f4c-4b0a-d49c-3fa16c6aac70"
   },
   "outputs": [],
   "source": [
    "(x_train, y_train), (x_test, y_test) = fashion_mnist.load_data()"
   ]
  },
  {
   "cell_type": "code",
   "execution_count": 3,
   "metadata": {
    "colab": {
     "base_uri": "https://localhost:8080/"
    },
    "id": "ZA0HT08PqUL4",
    "outputId": "7cda3c6e-ab0e-4a2e-f309-edb83aaa018b"
   },
   "outputs": [
    {
     "name": "stdout",
     "output_type": "stream",
     "text": [
      "Dataset size : \n",
      "x_train  (60000, 28, 28)\n",
      "x_test  (10000, 28, 28)\n",
      "y_train  (60000,)\n",
      "y_test  (10000,)\n"
     ]
    }
   ],
   "source": [
    "print('Dataset size : ')\n",
    "print('x_train ', x_train.shape)\n",
    "print('x_test ', x_test.shape)\n",
    "print('y_train ', y_train.shape)\n",
    "print('y_test ', y_test.shape)"
   ]
  },
  {
   "cell_type": "code",
   "execution_count": 4,
   "metadata": {
    "id": "eOlUAGMsrYL6"
   },
   "outputs": [],
   "source": [
    "class_names = ['T-shirt/top', 'Trouser', 'Pullover', 'Dress', 'Coat', \n",
    "               'Sandal', 'Shirt', 'Sneaker', 'Bag', 'Ankle boot']"
   ]
  },
  {
   "cell_type": "code",
   "execution_count": 5,
   "metadata": {},
   "outputs": [
    {
     "data": {
      "text/plain": [
       "10"
      ]
     },
     "execution_count": 5,
     "metadata": {},
     "output_type": "execute_result"
    }
   ],
   "source": [
    "len(class_names)"
   ]
  },
  {
   "attachments": {},
   "cell_type": "markdown",
   "metadata": {
    "id": "_6fQ4ss-rIs6"
   },
   "source": [
    "# Show a random set of FIVE (5) images from each class in the dataset with their corresponding class names."
   ]
  },
  {
   "cell_type": "code",
   "execution_count": 6,
   "metadata": {
    "id": "4OZpAoTftMIZ"
   },
   "outputs": [],
   "source": [
    "x_train = x_train.reshape(60000, 28, 28, 1)"
   ]
  },
  {
   "cell_type": "code",
   "execution_count": 7,
   "metadata": {
    "colab": {
     "base_uri": "https://localhost:8080/",
     "height": 265
    },
    "id": "DI_Uce4IrSdN",
    "outputId": "82473fe2-ceb0-4adb-fb7a-447daf6ec85d"
   },
   "outputs": [
    {
     "data": {
      "image/png": "[encoded data removed]",
      "text/plain": [
       "<Figure size 432x288 with 2 Axes>"
      ]
     },
     "metadata": {
      "needs_background": "light"
     },
     "output_type": "display_data"
    }
   ],
   "source": [
    "plt.figure()\n",
    "plt.imshow((tf.squeeze(x_train[0])))\n",
    "plt.colorbar()\n",
    "plt.grid(False)\n",
    "plt.show()"
   ]
  },
  {
   "cell_type": "code",
   "execution_count": 8,
   "metadata": {
    "colab": {
     "base_uri": "https://localhost:8080/",
     "height": 399
    },
    "id": "hfHyNtBjv8GX",
    "outputId": "af591dbc-b6fb-4ab1-9b0d-36e989460d72"
   },
   "outputs": [
    {
     "data": {
      "image/png": "[encoded data removed]",
      "text/plain": [
       "<Figure size 720x720 with 5 Axes>"
      ]
     },
     "metadata": {
      "needs_background": "light"
     },
     "output_type": "display_data"
    }
   ],
   "source": [
    "import random\n",
    "plt.figure(figsize=(10,10))\n",
    "for i in range(5):\n",
    "    ax = plt.subplot(3,3,i + 1)\n",
    "    rand_index = random.choice(range(len(x_train)))\n",
    "    plt.imshow(tf.squeeze(x_train[rand_index]), cmap=plt.cm.binary)\n",
    "    plt.title(class_names[y_train[rand_index]])\n",
    "    plt.axis('off')"
   ]
  },
  {
   "attachments": {},
   "cell_type": "markdown",
   "metadata": {
    "id": "uTpNbYNJsrmu"
   },
   "source": [
    "#  Normalizing the pixel values to be between 0 and 1"
   ]
  },
  {
   "cell_type": "code",
   "execution_count": 9,
   "metadata": {
    "id": "-EmnMZALsnRR"
   },
   "outputs": [],
   "source": [
    "# normalize inputs from 0-255 to 0.0-1.0\n",
    "x_train = x_train.astype('float32')\n",
    "x_test = x_test.astype('float32')\n",
    "x_train = x_train / 255.0\n",
    "x_test = x_test / 255.0"
   ]
  },
  {
   "cell_type": "code",
   "execution_count": 10,
   "metadata": {},
   "outputs": [
    {
     "data": {
      "text/plain": [
       "(10000, 28, 28)"
      ]
     },
     "execution_count": 10,
     "metadata": {},
     "output_type": "execute_result"
    }
   ],
   "source": [
    "x_test.shape"
   ]
  },
  {
   "cell_type": "code",
   "execution_count": 11,
   "metadata": {
    "colab": {
     "base_uri": "https://localhost:8080/"
    },
    "id": "bZsz9cUEqaFV",
    "outputId": "fa54a9f1-a350-42d8-efe5-786874bbe480"
   },
   "outputs": [
    {
     "name": "stdout",
     "output_type": "stream",
     "text": [
      "Reshaped image  (28, 28, 1)\n"
     ]
    }
   ],
   "source": [
    "#Reshaping images to 28px by 28px and 1 channel\n",
    "x_train = x_train.reshape(x_train.shape[0],28,28,1) #channel dimension is created to be used for Conv2D\n",
    "x_test = x_test.reshape(x_test.shape[0],28,28,1)\n",
    "\n",
    "print('Reshaped image ', x_train[0].shape)"
   ]
  },
  {
   "cell_type": "code",
   "execution_count": 12,
   "metadata": {
    "colab": {
     "base_uri": "https://localhost:8080/"
    },
    "id": "GqwjvGCKqb0D",
    "outputId": "e2fcc430-ec30-406e-ef03-7332d7321b28"
   },
   "outputs": [
    {
     "name": "stdout",
     "output_type": "stream",
     "text": [
      "One hot encoded label  [0. 0. 0. 0. 0. 0. 0. 0. 0. 1.]\n"
     ]
    }
   ],
   "source": [
    "#One-Hot-Encoding\n",
    "y_train = np_utils.to_categorical(y_train)\n",
    "y_test = np_utils.to_categorical(y_test)\n",
    "print('One hot encoded label ', y_train[0])"
   ]
  },
  {
   "attachments": {},
   "cell_type": "markdown",
   "metadata": {
    "id": "dwAFJLYaSFtQ"
   },
   "source": [
    "Keep 15% of the train dataset for validation"
   ]
  },
  {
   "cell_type": "code",
   "execution_count": 13,
   "metadata": {
    "colab": {
     "base_uri": "https://localhost:8080/"
    },
    "id": "aPtZjNhAUY9v",
    "outputId": "5507b8f1-75c5-4f1e-87eb-49534bdbc5e3"
   },
   "outputs": [
    {
     "data": {
      "text/plain": [
       "9000.0"
      ]
     },
     "execution_count": 13,
     "metadata": {},
     "output_type": "execute_result"
    }
   ],
   "source": [
    "15/100 * 60000"
   ]
  },
  {
   "cell_type": "code",
   "execution_count": 14,
   "metadata": {
    "id": "hJRGaeQSdawv"
   },
   "outputs": [],
   "source": [
    "split = StratifiedShuffleSplit(n_splits=1, test_size=9000)\n",
    "for train_index, test_index in split.split(x_train, y_train):\n",
    "    X_train, X_val = x_train[train_index], x_train[test_index]\n",
    "    y_train, y_val = y_train[train_index], y_train[test_index]"
   ]
  },
  {
   "cell_type": "code",
   "execution_count": 15,
   "metadata": {
    "colab": {
     "base_uri": "https://localhost:8080/"
    },
    "id": "bRycddnAdalZ",
    "outputId": "5cd11fea-34bb-4198-baf0-f1123b134f76"
   },
   "outputs": [
    {
     "data": {
      "text/plain": [
       "(51000, 28, 28, 1)"
      ]
     },
     "execution_count": 15,
     "metadata": {},
     "output_type": "execute_result"
    }
   ],
   "source": [
    "X_train.shape"
   ]
  },
  {
   "cell_type": "code",
   "execution_count": 16,
   "metadata": {
    "colab": {
     "base_uri": "https://localhost:8080/"
    },
    "id": "LJpb6VPJdar-",
    "outputId": "b4177c8c-aeaf-4937-cfb5-a162b6f58d35"
   },
   "outputs": [
    {
     "data": {
      "text/plain": [
       "(9000, 28, 28, 1)"
      ]
     },
     "execution_count": 16,
     "metadata": {},
     "output_type": "execute_result"
    }
   ],
   "source": [
    "X_val.shape"
   ]
  },
  {
   "cell_type": "code",
   "execution_count": 17,
   "metadata": {
    "id": "lHCTdLLbdzUN"
   },
   "outputs": [],
   "source": [
    "# function to plot the learning curves\n",
    "def plot_results(history):\n",
    "    \n",
    "    fig, (ax1, ax2) = plt.subplots(1, 2, figsize=(20,7))\n",
    "\n",
    "    ax1.plot(history['loss'], label=\"Train loss\")\n",
    "    ax1.plot(history['val_loss'], label=\"Validation loss\")\n",
    "    ax2.plot(history['accuracy'], label=\"Train accuracy\")\n",
    "    ax2.plot(history['val_accuracy'], label=\"Validation accuracy\")\n",
    "\n",
    "    ax1.legend(fontsize=15);\n",
    "    ax2.legend(fontsize=15);\n",
    "\n",
    "    ax1.set_title('Loss per epoch', fontsize=25);\n",
    "    ax1.set_xlabel(\"epoch\", fontsize=20);\n",
    "    ax2.set_title('Accuracy per epoch', fontsize=25);\n",
    "    ax2.set_xlabel(\"epoch\", fontsize=20);\n",
    "\n",
    "    ax1.grid(True)\n",
    "    ax2.grid(True)"
   ]
  },
  {
   "cell_type": "code",
   "execution_count": 18,
   "metadata": {
    "colab": {
     "base_uri": "https://localhost:8080/"
    },
    "id": "Q1NW0hkPqbvZ",
    "outputId": "158aac74-9fb2-4e76-96b6-313467f1a3cf"
   },
   "outputs": [
    {
     "name": "stdout",
     "output_type": "stream",
     "text": [
      "Model: \"sequential\"\n",
      "_________________________________________________________________\n",
      " Layer (type)                Output Shape              Param #   \n",
      "=================================================================\n",
      " conv2d (Conv2D)             (None, 26, 26, 64)        640       \n",
      "                                                                 \n",
      " max_pooling2d (MaxPooling2D  (None, 13, 13, 64)       0         \n",
      " )                                                               \n",
      "                                                                 \n",
      " dropout (Dropout)           (None, 13, 13, 64)        0         \n",
      "                                                                 \n",
      " conv2d_1 (Conv2D)           (None, 11, 11, 32)        18464     \n",
      "                                                                 \n",
      " max_pooling2d_1 (MaxPooling  (None, 5, 5, 32)         0         \n",
      " 2D)                                                             \n",
      "                                                                 \n",
      " dropout_1 (Dropout)         (None, 5, 5, 32)          0         \n",
      "                                                                 \n",
      " flatten (Flatten)           (None, 800)               0         \n",
      "                                                                 \n",
      " dense (Dense)               (None, 512)               410112    \n",
      "                                                                 \n",
      " dense_1 (Dense)             (None, 256)               131328    \n",
      "                                                                 \n",
      " dense_2 (Dense)             (None, 128)               32896     \n",
      "                                                                 \n",
      " dense_3 (Dense)             (None, 10)                1290      \n",
      "                                                                 \n",
      "=================================================================\n",
      "Total params: 594,730\n",
      "Trainable params: 594,730\n",
      "Non-trainable params: 0\n",
      "_________________________________________________________________\n"
     ]
    }
   ],
   "source": [
    "#Building CNN \n",
    "model = Sequential()\n",
    "#First Layer\n",
    "model.add(Conv2D(64, 3, activation = 'relu', input_shape = (28, 28, 1)))\n",
    "model.add(MaxPooling2D(2,2))\n",
    "model.add(Dropout(0.3))\n",
    "\n",
    "#Second Layer\n",
    "model.add(Conv2D(32, 3, activation = 'relu'))\n",
    "model.add(MaxPooling2D(2,2))\n",
    "model.add(Dropout(0.3))\n",
    "\n",
    "#Flatten and Output Dense Layer\n",
    "model.add(Flatten())\n",
    "model.add(Dense(512, activation = 'relu'))\n",
    "model.add(Dense(256, activation = 'relu'))\n",
    "model.add(Dense(128, activation = 'relu'))\n",
    "model.add(Dense(10, activation = 'softmax'))\n",
    "model.summary()"
   ]
  },
  {
   "cell_type": "code",
   "execution_count": 19,
   "metadata": {
    "id": "OC9XrcpQeVm7"
   },
   "outputs": [],
   "source": [
    "model.compile(loss=\"categorical_crossentropy\", optimizer='adam', metrics=[\"accuracy\"])"
   ]
  },
  {
   "cell_type": "code",
   "execution_count": 20,
   "metadata": {
    "colab": {
     "base_uri": "https://localhost:8080/"
    },
    "id": "BwrvsmzvhoW7",
    "outputId": "1f99bf16-5558-483d-dbd9-9e7c213b5983",
    "scrolled": true
   },
   "outputs": [
    {
     "name": "stdout",
     "output_type": "stream",
     "text": [
      "Epoch 1/50\n",
      "399/399 [==============================] - 23s 55ms/step - loss: 0.6300 - accuracy: 0.7653 - val_loss: 0.4033 - val_accuracy: 0.8498\n",
      "Epoch 2/50\n",
      "399/399 [==============================] - 22s 55ms/step - loss: 0.4008 - accuracy: 0.8510 - val_loss: 0.3458 - val_accuracy: 0.8794\n",
      "Epoch 3/50\n",
      "399/399 [==============================] - 22s 55ms/step - loss: 0.3455 - accuracy: 0.8704 - val_loss: 0.2978 - val_accuracy: 0.8950\n",
      "Epoch 4/50\n",
      "399/399 [==============================] - 22s 55ms/step - loss: 0.3161 - accuracy: 0.8823 - val_loss: 0.2980 - val_accuracy: 0.8907\n",
      "Epoch 5/50\n",
      "399/399 [==============================] - 22s 55ms/step - loss: 0.2959 - accuracy: 0.8892 - val_loss: 0.2666 - val_accuracy: 0.9036\n",
      "Epoch 6/50\n",
      "399/399 [==============================] - 22s 54ms/step - loss: 0.2777 - accuracy: 0.8949 - val_loss: 0.2452 - val_accuracy: 0.9111\n",
      "Epoch 7/50\n",
      "399/399 [==============================] - 22s 54ms/step - loss: 0.2661 - accuracy: 0.8997 - val_loss: 0.2558 - val_accuracy: 0.9066\n",
      "Epoch 8/50\n",
      "399/399 [==============================] - 22s 55ms/step - loss: 0.2513 - accuracy: 0.9054 - val_loss: 0.2347 - val_accuracy: 0.9160\n",
      "Epoch 9/50\n",
      "399/399 [==============================] - 22s 54ms/step - loss: 0.2443 - accuracy: 0.9078 - val_loss: 0.2422 - val_accuracy: 0.9096\n",
      "Epoch 10/50\n",
      "399/399 [==============================] - 22s 54ms/step - loss: 0.2349 - accuracy: 0.9105 - val_loss: 0.2334 - val_accuracy: 0.9157\n",
      "Epoch 11/50\n",
      "399/399 [==============================] - 22s 54ms/step - loss: 0.2255 - accuracy: 0.9135 - val_loss: 0.2307 - val_accuracy: 0.9199\n",
      "Epoch 12/50\n",
      "399/399 [==============================] - 23s 59ms/step - loss: 0.2195 - accuracy: 0.9160 - val_loss: 0.2312 - val_accuracy: 0.9176\n",
      "Epoch 13/50\n",
      "399/399 [==============================] - 24s 59ms/step - loss: 0.2120 - accuracy: 0.9199 - val_loss: 0.2227 - val_accuracy: 0.9209\n",
      "Epoch 14/50\n",
      "399/399 [==============================] - 24s 59ms/step - loss: 0.2022 - accuracy: 0.9234 - val_loss: 0.2255 - val_accuracy: 0.9174\n",
      "Epoch 15/50\n",
      "399/399 [==============================] - 22s 55ms/step - loss: 0.1984 - accuracy: 0.9247 - val_loss: 0.2201 - val_accuracy: 0.9216\n",
      "Epoch 16/50\n",
      "399/399 [==============================] - 22s 55ms/step - loss: 0.1900 - accuracy: 0.9276 - val_loss: 0.2210 - val_accuracy: 0.9222\n",
      "Epoch 17/50\n",
      "399/399 [==============================] - 22s 56ms/step - loss: 0.1839 - accuracy: 0.9290 - val_loss: 0.2177 - val_accuracy: 0.9236\n",
      "Epoch 18/50\n",
      "399/399 [==============================] - 22s 56ms/step - loss: 0.1785 - accuracy: 0.9312 - val_loss: 0.2228 - val_accuracy: 0.9213\n",
      "Epoch 19/50\n",
      "399/399 [==============================] - 22s 55ms/step - loss: 0.1735 - accuracy: 0.9327 - val_loss: 0.2204 - val_accuracy: 0.9241\n",
      "Epoch 20/50\n",
      "399/399 [==============================] - 22s 55ms/step - loss: 0.1687 - accuracy: 0.9347 - val_loss: 0.2211 - val_accuracy: 0.9212\n",
      "Epoch 21/50\n",
      "399/399 [==============================] - 22s 54ms/step - loss: 0.1642 - accuracy: 0.9359 - val_loss: 0.2196 - val_accuracy: 0.9242\n",
      "Epoch 22/50\n",
      "399/399 [==============================] - 22s 55ms/step - loss: 0.1582 - accuracy: 0.9384 - val_loss: 0.2257 - val_accuracy: 0.9224\n",
      "Epoch 23/50\n",
      "399/399 [==============================] - 22s 55ms/step - loss: 0.1506 - accuracy: 0.9401 - val_loss: 0.2214 - val_accuracy: 0.9222\n",
      "Epoch 24/50\n",
      "399/399 [==============================] - 22s 54ms/step - loss: 0.1471 - accuracy: 0.9435 - val_loss: 0.2315 - val_accuracy: 0.9212\n",
      "Epoch 25/50\n",
      "399/399 [==============================] - 22s 55ms/step - loss: 0.1467 - accuracy: 0.9425 - val_loss: 0.2293 - val_accuracy: 0.9210\n",
      "Epoch 26/50\n",
      "399/399 [==============================] - 26s 64ms/step - loss: 0.1409 - accuracy: 0.9447 - val_loss: 0.2287 - val_accuracy: 0.9220\n",
      "Epoch 27/50\n",
      "399/399 [==============================] - 22s 55ms/step - loss: 0.1406 - accuracy: 0.9463 - val_loss: 0.2288 - val_accuracy: 0.9200\n",
      "Epoch 28/50\n",
      "399/399 [==============================] - 22s 55ms/step - loss: 0.1314 - accuracy: 0.9493 - val_loss: 0.2326 - val_accuracy: 0.9213\n",
      "Epoch 29/50\n",
      "399/399 [==============================] - 22s 55ms/step - loss: 0.1306 - accuracy: 0.9486 - val_loss: 0.2455 - val_accuracy: 0.9208\n",
      "Epoch 30/50\n",
      "399/399 [==============================] - 22s 55ms/step - loss: 0.1259 - accuracy: 0.9513 - val_loss: 0.2512 - val_accuracy: 0.9196\n",
      "Epoch 31/50\n",
      "399/399 [==============================] - 22s 54ms/step - loss: 0.1266 - accuracy: 0.9504 - val_loss: 0.2413 - val_accuracy: 0.9208\n",
      "Epoch 32/50\n",
      "399/399 [==============================] - 22s 55ms/step - loss: 0.1232 - accuracy: 0.9522 - val_loss: 0.2467 - val_accuracy: 0.9206\n",
      "Epoch 33/50\n",
      "399/399 [==============================] - 22s 54ms/step - loss: 0.1166 - accuracy: 0.9549 - val_loss: 0.2424 - val_accuracy: 0.9258\n",
      "Epoch 34/50\n",
      "399/399 [==============================] - 22s 54ms/step - loss: 0.1173 - accuracy: 0.9543 - val_loss: 0.2533 - val_accuracy: 0.9213\n",
      "Epoch 35/50\n",
      "399/399 [==============================] - 21s 54ms/step - loss: 0.1164 - accuracy: 0.9545 - val_loss: 0.2574 - val_accuracy: 0.9238\n",
      "Epoch 36/50\n",
      "399/399 [==============================] - 21s 53ms/step - loss: 0.1151 - accuracy: 0.9556 - val_loss: 0.2439 - val_accuracy: 0.9240\n",
      "Epoch 37/50\n",
      "399/399 [==============================] - 21s 53ms/step - loss: 0.1082 - accuracy: 0.9576 - val_loss: 0.2603 - val_accuracy: 0.9227\n",
      "Epoch 38/50\n",
      "399/399 [==============================] - 21s 54ms/step - loss: 0.1060 - accuracy: 0.9586 - val_loss: 0.2516 - val_accuracy: 0.9238\n",
      "Epoch 39/50\n",
      "399/399 [==============================] - 21s 54ms/step - loss: 0.1060 - accuracy: 0.9588 - val_loss: 0.2712 - val_accuracy: 0.9207\n",
      "Epoch 40/50\n",
      "399/399 [==============================] - 21s 54ms/step - loss: 0.1035 - accuracy: 0.9595 - val_loss: 0.2556 - val_accuracy: 0.9230\n",
      "Epoch 41/50\n",
      "399/399 [==============================] - 22s 55ms/step - loss: 0.1028 - accuracy: 0.9605 - val_loss: 0.2645 - val_accuracy: 0.9223\n",
      "Epoch 42/50\n",
      "399/399 [==============================] - 22s 55ms/step - loss: 0.1015 - accuracy: 0.9606 - val_loss: 0.2749 - val_accuracy: 0.9206\n",
      "Epoch 43/50\n",
      "399/399 [==============================] - 22s 55ms/step - loss: 0.1012 - accuracy: 0.9610 - val_loss: 0.2666 - val_accuracy: 0.9224\n",
      "Epoch 44/50\n",
      "399/399 [==============================] - 23s 58ms/step - loss: 0.0987 - accuracy: 0.9618 - val_loss: 0.2551 - val_accuracy: 0.9231\n",
      "Epoch 45/50\n",
      "399/399 [==============================] - 22s 56ms/step - loss: 0.0960 - accuracy: 0.9626 - val_loss: 0.2845 - val_accuracy: 0.9199\n",
      "Epoch 46/50\n",
      "399/399 [==============================] - 23s 56ms/step - loss: 0.0971 - accuracy: 0.9620 - val_loss: 0.2702 - val_accuracy: 0.9231\n",
      "Epoch 47/50\n",
      "399/399 [==============================] - 23s 57ms/step - loss: 0.0903 - accuracy: 0.9647 - val_loss: 0.2833 - val_accuracy: 0.9213\n",
      "Epoch 48/50\n",
      "399/399 [==============================] - 22s 56ms/step - loss: 0.0915 - accuracy: 0.9644 - val_loss: 0.2935 - val_accuracy: 0.9191\n",
      "Epoch 49/50\n",
      "399/399 [==============================] - 22s 56ms/step - loss: 0.0901 - accuracy: 0.9652 - val_loss: 0.2756 - val_accuracy: 0.9183\n",
      "Epoch 50/50\n",
      "399/399 [==============================] - 22s 56ms/step - loss: 0.0905 - accuracy: 0.9652 - val_loss: 0.2784 - val_accuracy: 0.9199\n"
     ]
    }
   ],
   "source": [
    "checkpoint = ModelCheckpoint('CNN_model{epoch:02d}.h5') \n",
    "epochs = 50 #number of rounds of training over the entire training dataset\n",
    "CNN_model = model.fit(X_train, y_train, epochs=epochs, batch_size=128, validation_data=(X_val, y_val), callbacks =[checkpoint])"
   ]
  },
  {
   "attachments": {},
   "cell_type": "markdown",
   "metadata": {
    "id": "-lcTLdttpjFl"
   },
   "source": [
    "# Rate the performance of the algorithm and provide necessary plots"
   ]
  },
  {
   "cell_type": "code",
   "execution_count": 21,
   "metadata": {
    "colab": {
     "base_uri": "https://localhost:8080/",
     "height": 476
    },
    "id": "rLcsXTH4hsgs",
    "outputId": "d757bb7e-dd98-4bcd-fe58-59985d05ead6"
   },
   "outputs": [
    {
     "data": {
      "image/png": "[encoded data removed]",
      "text/plain": [
       "<Figure size 1440x504 with 2 Axes>"
      ]
     },
     "metadata": {
      "needs_background": "light"
     },
     "output_type": "display_data"
    }
   ],
   "source": [
    "# plotting the learning curves\n",
    "plot_results(CNN_model.history)"
   ]
  },
  {
   "cell_type": "code",
   "execution_count": 22,
   "metadata": {
    "colab": {
     "base_uri": "https://localhost:8080/"
    },
    "id": "qrdBTUCzqsSs",
    "outputId": "0f343ca6-fd0b-43f2-de74-14a4119dbbe4"
   },
   "outputs": [
    {
     "name": "stdout",
     "output_type": "stream",
     "text": [
      "Accuracy: 91.70%\n",
      "Loss: 0.2970\n"
     ]
    }
   ],
   "source": [
    "# Evaluate the model on test set\n",
    "score = model.evaluate(x_test, y_test, verbose=0)\n",
    "# Print test accuracy\n",
    "print(\"Accuracy: %.2f%%\" % (score[1]*100)) #2nd values \n",
    "print(\"Loss: %.4f\" % (score[0])) #1st value in scores"
   ]
  },
  {
   "cell_type": "code",
   "execution_count": 23,
   "metadata": {
    "colab": {
     "base_uri": "https://localhost:8080/"
    },
    "id": "cTA7tRE8rK04",
    "outputId": "fa58f183-2e4a-423b-9e1b-80266e1904ab"
   },
   "outputs": [
    {
     "name": "stdout",
     "output_type": "stream",
     "text": [
      "313/313 [==============================] - 1s 4ms/step\n"
     ]
    }
   ],
   "source": [
    "y_pred=model.predict(x_test) \n",
    "y_pred=np.argmax(y_pred, axis=1)"
   ]
  },
  {
   "cell_type": "code",
   "execution_count": 24,
   "metadata": {},
   "outputs": [],
   "source": [
    "y_test_arg=np.argmax(y_test,axis=1)"
   ]
  },
  {
   "cell_type": "code",
   "execution_count": 25,
   "metadata": {
    "colab": {
     "base_uri": "https://localhost:8080/"
    },
    "id": "6Q7H5QHlH4AQ",
    "outputId": "1ddbf5f8-6746-447f-a9ec-371ee851b7a9",
    "scrolled": false
   },
   "outputs": [
    {
     "name": "stdout",
     "output_type": "stream",
     "text": [
      "              precision    recall  f1-score   support\n",
      "\n",
      " T-shirt/top       0.86      0.88      0.87      1000\n",
      "     Trouser       1.00      0.98      0.99      1000\n",
      "    Pullover       0.88      0.87      0.87      1000\n",
      "       Dress       0.91      0.94      0.92      1000\n",
      "        Coat       0.88      0.84      0.86      1000\n",
      "      Sandal       0.99      0.98      0.98      1000\n",
      "       Shirt       0.75      0.77      0.76      1000\n",
      "     Sneaker       0.96      0.97      0.96      1000\n",
      "         Bag       0.98      0.98      0.98      1000\n",
      "  Ankle boot       0.96      0.97      0.97      1000\n",
      "\n",
      "    accuracy                           0.92     10000\n",
      "   macro avg       0.92      0.92      0.92     10000\n",
      "weighted avg       0.92      0.92      0.92     10000\n",
      "\n"
     ]
    }
   ],
   "source": [
    "print(classification_report(y_test_arg, y_pred, target_names=class_names))"
   ]
  },
  {
   "cell_type": "code",
   "execution_count": 27,
   "metadata": {},
   "outputs": [
    {
     "name": "stdout",
     "output_type": "stream",
     "text": [
      "Confusion Matrix\n",
      "[[876   0  17  11   1   0  88   0   7   0]\n",
      " [  2 978   0  11   4   0   3   0   2   0]\n",
      " [ 20   0 871   8  43   0  58   0   0   0]\n",
      " [ 13   2   5 935  20   0  24   0   1   0]\n",
      " [  1   0  46  30 837   0  82   0   4   0]\n",
      " [  1   0   0   0   0 976   0  17   0   6]\n",
      " [ 98   1  51  26  41   0 773   0  10   0]\n",
      " [  0   0   0   0   0   3   0 967   0  30]\n",
      " [  1   1   1   5   2   1   3   2 984   0]\n",
      " [  1   0   0   0   0   4   1  21   0 973]]\n"
     ]
    }
   ],
   "source": [
    "print('Confusion Matrix')\n",
    "cm = confusion_matrix(y_test_arg, y_pred)\n",
    "print(cm)"
   ]
  },
  {
   "cell_type": "code",
   "execution_count": 28,
   "metadata": {
    "colab": {
     "base_uri": "https://localhost:8080/",
     "height": 295
    },
    "id": "z_A5FzD6rabe",
    "outputId": "5959caf1-3f8a-4063-b550-a422d5e51965"
   },
   "outputs": [
    {
     "data": {
      "image/png": "[encoded data removed]",
      "text/plain": [
       "<Figure size 432x288 with 2 Axes>"
      ]
     },
     "metadata": {
      "needs_background": "light"
     },
     "output_type": "display_data"
    }
   ],
   "source": [
    "ax= plt.subplot()\n",
    "sns.heatmap(cm, annot=True, ax=ax);  \n",
    "\n",
    "# labels, title and ticks\n",
    "ax.set_xlabel('Predicted labels');ax.set_ylabel('True labels'); \n",
    "ax.set_title('Confusion Matrix'); "
   ]
  },
  {
   "cell_type": "code",
   "execution_count": 29,
   "metadata": {
    "colab": {
     "base_uri": "https://localhost:8080/",
     "height": 573
    },
    "id": "E5E7fpFZrfVm",
    "outputId": "3597ecf9-0b7b-4c1a-9aa3-af5e7db269ab"
   },
   "outputs": [
    {
     "data": {
      "image/png": "[encoded data removed]",
      "text/plain": [
       "<Figure size 432x288 with 1 Axes>"
      ]
     },
     "metadata": {
      "needs_background": "light"
     },
     "output_type": "display_data"
    },
    {
     "data": {
      "image/png": "[encoded data removed]",
      "text/plain": [
       "<Figure size 432x288 with 1 Axes>"
      ]
     },
     "metadata": {
      "needs_background": "light"
     },
     "output_type": "display_data"
    }
   ],
   "source": [
    "# Plot training & validation accuracy values\n",
    "plt.plot(CNN_model.history['accuracy'],'x-')\n",
    "plt.plot(CNN_model.history['val_accuracy'],'x-')\n",
    "plt.title('Model accuracy')\n",
    "plt.ylabel('Accuracy')\n",
    "plt.xlabel('Epoch')\n",
    "plt.legend(['Train', 'Valid'], loc='upper left')\n",
    "plt.show()\n",
    "\n",
    "# Plot training & validation loss values\n",
    "plt.plot(CNN_model.history['loss'],'x-')\n",
    "plt.plot(CNN_model.history['val_loss'],'x-')\n",
    "plt.title('Model loss')\n",
    "plt.ylabel('Loss')\n",
    "plt.xlabel('Epoch')\n",
    "plt.legend(['Train', 'Valid'], loc='upper left')\n",
    "plt.show()"
   ]
  },
  {
   "cell_type": "code",
   "execution_count": 31,
   "metadata": {
    "colab": {
     "base_uri": "https://localhost:8080/"
    },
    "id": "vLDq7TsxHJlY",
    "outputId": "f1dabed7-dd65-432c-ab06-254ef0bc2896"
   },
   "outputs": [
    {
     "name": "stdout",
     "output_type": "stream",
     "text": [
      "313/313 [==============================] - 1s 4ms/step\n"
     ]
    }
   ],
   "source": [
    "y_predict = np.argmax(model.predict(x_test), axis=-1)"
   ]
  },
  {
   "attachments": {},
   "cell_type": "markdown",
   "metadata": {
    "id": "lxRMJK4XprPT"
   },
   "source": [
    "# Pick a random image from the test dataset, pass it to the algorithm"
   ]
  },
  {
   "cell_type": "code",
   "execution_count": 42,
   "metadata": {},
   "outputs": [
    {
     "name": "stdout",
     "output_type": "stream",
     "text": [
      "1/1 [==============================] - 0s 14ms/step\n",
      "[2.2030805e-10 6.3537039e-21 1.0000000e+00 2.7570694e-14 4.7488250e-12\n",
      " 6.2013203e-19 2.1458091e-09 7.3643551e-21 2.1529831e-13 2.7316163e-24]\n"
     ]
    }
   ],
   "source": [
    "id = 1 #extracts the 1st image\n",
    "test = x_test[id: id+1,:] # extracts the id'th test image\n",
    "prob = model.predict(test)\n",
    "print(prob[0])"
   ]
  },
  {
   "cell_type": "code",
   "execution_count": 43,
   "metadata": {},
   "outputs": [
    {
     "data": {
      "text/plain": [
       "1.0"
      ]
     },
     "execution_count": 43,
     "metadata": {},
     "output_type": "execute_result"
    }
   ],
   "source": [
    "max(prob[0]) #maximum probability"
   ]
  },
  {
   "cell_type": "code",
   "execution_count": 46,
   "metadata": {},
   "outputs": [
    {
     "name": "stdout",
     "output_type": "stream",
     "text": [
      "2\n"
     ]
    }
   ],
   "source": [
    "print(np.argmax(prob[0]))  #predicted label number, is the index that has the maximum value"
   ]
  },
  {
   "attachments": {},
   "cell_type": "markdown",
   "metadata": {},
   "source": [
    "## 2 is the predicted index"
   ]
  },
  {
   "cell_type": "code",
   "execution_count": 35,
   "metadata": {},
   "outputs": [
    {
     "data": {
      "text/plain": [
       "array([0., 0., 1., 0., 0., 0., 0., 0., 0., 0.], dtype=float32)"
      ]
     },
     "execution_count": 35,
     "metadata": {},
     "output_type": "execute_result"
    }
   ],
   "source": [
    "y_test[id]"
   ]
  },
  {
   "cell_type": "code",
   "execution_count": 45,
   "metadata": {
    "scrolled": false
   },
   "outputs": [
    {
     "name": "stdout",
     "output_type": "stream",
     "text": [
      "[[0. 0. 1. 0. 0. 0. 0. 0. 0. 0.]]\n"
     ]
    }
   ],
   "source": [
    "print(y_test[id: id+1,:])"
   ]
  },
  {
   "attachments": {},
   "cell_type": "markdown",
   "metadata": {},
   "source": [
    "## Model correctly predict the random image"
   ]
  }
 ],
 "metadata": {
  "colab": {
   "collapsed_sections": [],
   "provenance": []
  },
  "kernelspec": {
   "display_name": "Python 3",
   "language": "python",
   "name": "python3"
  },
  "language_info": {
   "codemirror_mode": {
    "name": "ipython",
    "version": 3
   },
   "file_extension": ".py",
   "mimetype": "text/x-python",
   "name": "python",
   "nbconvert_exporter": "python",
   "pygments_lexer": "ipython3",
   "version": "3.9.12"
  }
 },
 "nbformat": 4,
 "nbformat_minor": 1
}
